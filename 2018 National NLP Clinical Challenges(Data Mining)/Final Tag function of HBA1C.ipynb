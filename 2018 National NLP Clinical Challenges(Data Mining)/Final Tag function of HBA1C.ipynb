{
 "cells": [
  {
   "cell_type": "code",
   "execution_count": 85,
   "metadata": {
    "collapsed": true
   },
   "outputs": [],
   "source": [
    "from nltk.stem.snowball import SnowballStemmer\n",
    "from nltk.corpus import stopwords\n",
    "from nltk.tokenize import word_tokenize\n",
    "import re\n",
    "import pandas as pd\n",
    "\n",
    "tag2prefix = {'ABDOMINAL':'AB', 'ADVANCED-CAD':'AD', 'ALCOHOL-ABUSE':'AL', 'ASP-FOR-MI':'AS', 'CREATININE':'CR', \\\n",
    "        'DIETSUPP-2MOS':'DI', 'DRUG-ABUSE':'DR', 'ENGLISH':'EN', 'HBA1C':'HB', \\\n",
    "        'MAJOR-DIABETES':'MA', 'MAKES-DECISIONS':'MK', 'MI-6MOS':'MI', 'KETO-1YR':'KE' }\n",
    "tag2id = {'ABDOMINAL':0, 'ADVANCED-CAD':0, 'ALCOHOL-ABUSE':0, 'ASP-FOR-MI':0, 'CREATININE':0, \\\n",
    "        'DIETSUPP-2MOS':0, 'DRUG-ABUSE':0, 'ENGLISH':0, 'HBA1C':0, \\\n",
    "        'MAJOR-DIABETES':0, 'MAKES-DECISIONS':0, 'MI-6MOS':0, 'KETO-1YR':0 }\n",
    "\n",
    "def checkKETOandHBA1C(train_df):\n",
    "    result_file = open(\"result.txt\", 'w+') \n",
    "    df_record = train_df['record_text'].copy()\n",
    "    idprefix = tag2prefix[\"HBA1C\"]\n",
    "    idnum = tag2id[\"HBA1C\"]\n",
    "    def preprocessing(text):\n",
    "        removelist = ['\\n','\\t']\n",
    "        tokens = word_tokenize(text.lower())\n",
    "        processed = []\n",
    "        pattern = re.compile(r\"\\d+-\\d+-\\d+\")\n",
    "        pattern2 = re.compile(r\"\\d+/\\d+/\\d+\")\n",
    "        pattern3 = re.compile(r\"was\")\n",
    "        pattern4 = re.compile(r\"\\d+/\\d+\")\n",
    "        for each in tokens:\n",
    "            if each not in removelist:            \n",
    "                match = pattern.search(each)\n",
    "                match2 = pattern2.search(each)\n",
    "                match3 = pattern3.search(each)\n",
    "                match4 = pattern4.search(each)\n",
    "                if not match and not match2 and not match3 and not match4:\n",
    "                    processed.append(each)\n",
    "        res = ' '.join(processed)\n",
    "        res = re.sub('[^a-z0-9.%]',' ',res)\n",
    "        res = re.sub(r'\\s+', '', res)\n",
    "        return res\n",
    "    for i, each in enumerate(df_record):\n",
    "        df_record[i] = preprocessing(each)\n",
    "    #def checkKETO(df_record):\n",
    "\n",
    "    def checkHBA1C(df_record):\n",
    "        HBA1C_MET = []\n",
    "        flag = 0\n",
    "        flag_group = []\n",
    "        for each in df_record:\n",
    "            for num in range(0,20):\n",
    "                pattern = re.compile(r\"(?<=a1c[a-z0-9\\s]{\"+str(num)+\"})\\d+\\.\\d{0,2}\")\n",
    "                pattern2 = re.compile(r\"(?<=a1c[a-z0-9\\s]{\"+str(num)+\"})\\d\\.?\\d{0,2}(?=%)\")\n",
    "                match = pattern.findall(each)\n",
    "                match2 = pattern2.findall(each)\n",
    "                if match:\n",
    "                    #print(flag)\n",
    "                    #print(match)\n",
    "                    for each in match:\n",
    "                        float_each = float(each)\n",
    "                        if float_each >= 6.5 and float_each <= 9.5:\n",
    "                            flag_group.append(flag)\n",
    "                            HBA1C_MET.append(match)\n",
    "                            id = idprefix + str(tag2id[\"HBA1C\"])                    \n",
    "                            print(train_df.loc[flag,'record_file']+\", HBA1C, \" +id+\", met\", file=result_file)\n",
    "                            tag2id[\"HBA1C\"] += 1\n",
    "                if match2:\n",
    "                    for each in match2:\n",
    "                        float_each = float(each)\n",
    "                        if float_each >= 6.5 and float_each <= 9.5:\n",
    "                            flag_group.append(flag)\n",
    "                            HBA1C_MET.append(match2)              \n",
    "                            id = idprefix + str(tag2id[\"HBA1C\"])\n",
    "                            print(train_df.loc[flag,'record_file']+\", HBA1C, \" + id+\", met\", file=result_file)\n",
    "                            tag2id[\"HBA1C\"] += 1\n",
    "            if flag not in flag_group:\n",
    "                print(train_df.loc[flag,'record_file']+\", HBA1C, HB0, not met\", file=result_file)\n",
    "            flag =flag + 1\n",
    "            tag2id[\"HBA1C\"] = 0\n",
    "        return flag_group    \n",
    "    #KETO = checkKETO(df_record)\n",
    "    HBA1C = checkHBA1C(df_record)\n",
    "    return HBA1C"
   ]
  },
  {
   "cell_type": "code",
   "execution_count": 86,
   "metadata": {},
   "outputs": [
    {
     "name": "stdout",
     "output_type": "stream",
     "text": [
      "[5, 5, 10, 20, 22, 22, 24, 27, 28, 30, 33, 33, 33, 34, 35, 37, 37, 40, 42, 45, 48, 48, 48, 48, 48, 48, 48, 48, 50, 60, 62, 67, 67, 69, 70, 71, 75, 75, 75, 76, 76, 77, 77, 77, 79, 79, 79, 81, 83]\n"
     ]
    }
   ],
   "source": [
    "train_df = pd.read_csv(\"all-train.csv\")\n",
    "test_df = pd.read_csv(\"all-test.csv\")\n",
    "a = checkKETOandHBA1C(test_df)\n",
    "print(a)"
   ]
  }
 ],
 "metadata": {
  "kernelspec": {
   "display_name": "Python 3",
   "language": "python",
   "name": "python3"
  },
  "language_info": {
   "codemirror_mode": {
    "name": "ipython",
    "version": 3
   },
   "file_extension": ".py",
   "mimetype": "text/x-python",
   "name": "python",
   "nbconvert_exporter": "python",
   "pygments_lexer": "ipython3",
   "version": "3.6.3"
  }
 },
 "nbformat": 4,
 "nbformat_minor": 2
}
