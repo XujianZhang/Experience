{
 "cells": [
  {
   "cell_type": "markdown",
   "metadata": {},
   "source": [
    "# n2c2 Shared Task\n",
    "https://portal.dbmi.hms.harvard.edu/projects/n2c2-t1/\n",
    "\n",
    "03/07/2018"
   ]
  },
  {
   "cell_type": "markdown",
   "metadata": {},
   "source": [
    "## Parse the Record Files and Extract the Tags\n",
    "There are 202 record files in the folder train/. Each record file contains the clinical notes for a patient. At the end of the record file there is a list of tags indicating whther the patient meets the 13 clinical trial criteria.\n",
    "\n",
    "* **DRUG-ABUSE**: Drug abuse, current or past\n",
    "* **ALCOHOL-ABUS**: Current alcohol use over weekly recommended limits\n",
    "* **ENGLISH**: Patient must speak English\n",
    "* **MAKES-DECISIONS**: Patient must make their own medical decisions \n",
    "* **ABDOMINAL**: History of intra abdominal surgery, small or large intestine resection or small bowel obstructionn\n",
    "* **MAJOR-DIABETES**: Major diabetes-related complication\n",
    "  - For the purposes of this annotation, we define “major complication” (as opposed to \"minor complication”) as any of the following that are a result of (or strongly correlated with) uncontrolled diabetes:\n",
    "   * Amputation\n",
    "   * Kidney damage\n",
    "   * Skin conditions\n",
    "   * Retinopathy\n",
    "   * nephropathy\n",
    "   * neuropathy\n",
    "* **ADVANCED-CAD**: Advanced cardiovascular disease\n",
    "  - For the purposes of this annotation, we define “advanced” as having two or more of the following:\n",
    "   * Taking two or more medications to treat CAD\n",
    "   * History of myocardial infarction\n",
    "   * Currently experiencing angina\n",
    "   * Ischemia, past or present\n",
    "* **MI-6MOS**: Myocardial infarction in the past 6 months\n",
    "* **KETO-1YR**: Diagnosis of ketoacidosis in the past year\n",
    "* **DIETSUPP-2MOS**: Taken a dietary supplement (excluding Vitamin D) in the past 2 months\n",
    "* **ASP-FOR-MI**: Use of aspirin to prevent myocardial infarction\n",
    "* **HBA1C**: Any HbA1c value between 6.5 and 9.5%\n",
    "* **REATININE**: Serum creatinine > upper limit of normal"
   ]
  },
  {
   "cell_type": "code",
   "execution_count": 4,
   "metadata": {
    "collapsed": true
   },
   "outputs": [],
   "source": [
    "import pandas as pd\n",
    "import numpy as np\n",
    "import matplotlib.pyplot as plt\n",
    "%matplotlib inline\n",
    "from matplotlib.pylab import rcParams\n",
    "rcParams['figure.figsize'] = 15, 6"
   ]
  },
  {
   "cell_type": "markdown",
   "metadata": {},
   "source": [
    "### List the files in the train directory\n",
    "All the files are located in the train directory."
   ]
  },
  {
   "cell_type": "code",
   "execution_count": 5,
   "metadata": {},
   "outputs": [
    {
     "data": {
      "text/plain": [
       "202"
      ]
     },
     "execution_count": 5,
     "metadata": {},
     "output_type": "execute_result"
    }
   ],
   "source": [
    "import os\n",
    "files = os.listdir(\"train\")\n",
    "len(files)"
   ]
  },
  {
   "cell_type": "code",
   "execution_count": 6,
   "metadata": {
    "collapsed": true
   },
   "outputs": [],
   "source": [
    "import xmltodict\n",
    "with open(\"train/\" + files[0], \"r\") as fd:\n",
    "    doc = xmltodict.parse(fd.read())"
   ]
  },
  {
   "cell_type": "markdown",
   "metadata": {},
   "source": [
    "### Test the XML Parse Functionality\n",
    "The text fields and tags are needed to be extracted."
   ]
  },
  {
   "cell_type": "code",
   "execution_count": 7,
   "metadata": {},
   "outputs": [
    {
     "data": {
      "text/plain": [
       "'not met'"
      ]
     },
     "execution_count": 7,
     "metadata": {},
     "output_type": "execute_result"
    }
   ],
   "source": [
    "doc[\"PatientMatching\"][\"TAGS\"]['ABDOMINAL']['@met']"
   ]
  },
  {
   "cell_type": "code",
   "execution_count": 15,
   "metadata": {},
   "outputs": [
    {
     "data": {
      "text/plain": [
       "'Record date: 2068-02-04\\n\\nASSOCIATED ARTHRITIS SPECIALISTS CENTER            Quijano, Baylee\\n                                              2-03-68\\n \\n \\n \\nIdentification:  Patient is a 53-year old markedly obese female \\ncomplaining of bilateral weight knee pain.  She denies any morning \\nstiffness, any jelling phenomena.  She has had no trauma or effusions in \\nthe knee.  She had noted on x-ray many years ago that she had had a \\nchipped bone in the right knee and some mild osteoarthritis but it has \\nbothered her only intermittently until this year.  Last year she did go \\nto Briggs Stratton and dropped to 270 lb. at which point her knees felt \\nbetter, but currently she is back up to over 300 lb. and at her height \\nof 5 ft. 1 in., she is in pain.  She has not visited a physician.  She \\nhas no internist who currently checks on her general medical health, but \\nshe does report that the occasional Advil she takes does produce some \\ndyspepsia.  She has no history of gout, no history of psoriasis, no \\nhistory of pseudogout or any rash, alopecia, headaches, shoulder or hip \\ndiscomfort.  She does not complain of back pain but does have difficult \\nwalking 50 yards because of the knee pain.\\n \\nAllergies:  None.\\n \\nMedications:  Occasional Advil.\\n \\nPast Surgical History:  Cholecystectomy 2064.  Two c-sections.\\n \\nPast Medical History:  Negative for hypertension, diabetes, cancer, \\nstroke, tuberculosis, hepatitis, asthma, heart disease.\\n \\nFamily History:  Mother is alive and well with no medical problems.  \\nFather is alive and well with no medical problems.  She has 12 siblings.  \\nOne sibling died of pneumonia at a young age.  Another sibling has \\nasthma.\\n \\nPhysical Examination;  She is a markedly obese female, no apparent \\ndistress.  She is 5 ft. 1 in. and weighs 304 lb.  Examination of joints:  \\nNo evidence of active synovitis or pain in her DIPs, PIPs, MCPs, wrists, \\nelbows, shoulders.  Bilateral hips are limited in internal external \\nrotation but not because of pain-- due to obesity, bilateral knees have \\ncrepitus, but no warmth or swelling.  There is some pain at extremes of \\nflexion on the left of 110 degrees.  Ankles and toes within normal \\nlimits.  Please note above in the clinical history that she does not \\ncomplain of back pain but does have difficult walking 50 yards because \\nof the knee pain.  The blood pressure could not be taken secondary to \\nthe fact that the large blood pressure \\ncuff did not fit around her right arm. \\n \\nImpression:  \\n \\n1.   Probable bilateral osteoarthritis.  I will obtain plain films and \\n     have prescribed Disalcid 3 gm. a day p.r.n.   GI and renal side \\n     effects explained.\\n                                              2-03-68\\n \\n \\n \\n2.   We discussed seriously the need for weight loss.  She will be \\n     referred to the nutritionist to get on a weight loss program.  She \\n     will seriously entertain a weight loss program.  Patient will \\n     return in a few months unless she has any further problems.\\n \\n3.   I have referred her to an Internal Medicine doctor for health maintenance since \\n     she does not have one as yet.\\n \\n \\n \\n \\n_________________________\\nAda R. Kruger, M.D.\\n \\nFK:SK:3696\\nDD:2-03-68\\nDT:2-05-68\\nDV:2-03-68\\n\\n\\n\\n\\n****************************************************************************************************\\nRecord date: 2074-01-22\\n\\n                     AASC EMERGENCY DEPT VISIT\\n \\nQUIJANO,BAYLEE   853-62-51-4                    VISIT DATE: 01/22/74\\nHISTORY OF PRESENTING COMPLAINT:  The patient is a very pleasant 50 \\nyear old woman with a history of hypertension, on atenolol, \\nhydrochlorothiazide, triamterene who presents to the Emergency \\nDepartment complaining of subjective fevers, myalgias and cough. \\nREVIEW OF SYSTEMS:  Negative for headache, neck pain, chest pain, \\nshortness of breath, dyspnea on exertion, abdominal pain, fevers or \\nchills. \\nPHYSICAL EXAMINATION:  Afebrile.  Vital signs are normal. \\nNormocephalic, atraumatic.  Neck:  Supple.  JVD to approximately 7 \\ncm.  Chest has bibasilar faint crackles that do not clear with \\ncough.  Abdomen is soft, obese.  Heart:  Regular rate and rhythm. \\nExtremities:  1+ non-pitting edema versus obesity. \\nLABORATORY EVALUATION:  Chest x-ray with bilateral inferior lobe \\ninfiltrates with cephalization consistent with mild to moderate \\nCHF, no effusions.  EKG with LVH, no ST elevations, T wave \\ninversions or evidence of acute ischemia. \\nASSESSMENT/PLAN:  New onset CHF, setting in a probable URI. \\nDISPOSITION (including condition upon discharge):  I will admit to \\nMedical Service for workup of CHF, rule out MI, echocardiogram. \\nThe patient is admitted in good condition. \\n___________________________________                    ZW011/0863 \\nDAVID ZHU, M.D.  DZ0                                D:01/22/74 \\n                                                       T:01/22/74 \\nDictated by:  DAVID ZHU, M.D.  DZ0 \\n ******** Not reviewed by Attending Physician ********\\n\\n\\n\\n\\n****************************************************************************************************\\nRecord date: 2075-01-15\\n\\n                     AASC EMERGENCY DEPT VISIT\\n \\nQUIJANO,BAYLEE   853-62-51-4                    VISIT DATE: 01/15/75\\nThe patient was worked up in the emergency department by myself and \\nthe resident, and I concur with her work up and evaluation in the \\nemergency department. \\nPRESENTING COMPLAINT:    Chest pain, shortness of breath, \\nproductive cough. \\nHISTORY OF PRESENTING COMPLAINT:  This patient is a 60-year-old \\nfemale that presents to the emergency department at Associated Arthritis with complaints of chest pain, shortness of breath \\nand a cough productive of white sputum.  The patient denies fever \\nor chills.  She denies any other acute complaints. \\nPAST MEDICAL HISTORY:  Morbid obesity, congestive heart failure, \\nhypertension, rheumatoid arthritis. \\nMEDICATIONS:  Zestril, a water pill most likely Lasix, Motrin and \\nTylenol. \\nALLERGIES:  No known allergies. \\nPHYSICAL EXAMINATION:  VITAL SIGNS:  Temperature 99, pulse 85, \\nrespiratory rate 16, blood pressure 214/117.  Oxygen saturation 92% \\non two liters.  HEENT:  Normocephalic, atraumatic.  Pupils equal, \\nround, reactive.  Positive AV nicking.  NECK:  Positive for jugular \\nvenous distension.  CHEST:  Rales audible bilaterally.  HEART: \\nNormal S1/S2.  No S3/S4.  No murmur.  ABDOMEN:  Soft, nontender. \\nEXTREMITIES:  Positive for 2-3+ pitting edema.  NEURO:  She was \\nawake, alert, and able to follow commands. \\nLABORATORY EVALUATION:  CK 84.  White count 10, hemoglobin 12, \\nhematocrit 42, platelet count 329.  Urinalysis noted 1+ blood in \\nher urine, however, overall, her urinalysis was negative.  Chest \\nx-ray which noted cardiomegaly with findings consistent with \\ncongestive heart failure.  EKG noted no acute changes. \\nTHERAPY RENDERED/COURSE IN ED:  The patient was given 40 mg of \\nLasix IV initially.  For her chest pain, she was given sublingual \\nnitroglycerin.  She was also given one aspirin.  She had a \\nnitroglycerin patch placed in the emergency department. \\nFINAL DIAGNOSIS: \\n1. Congestive failure. \\n2. Chest pain, no evidence of an acute myocardial infarction. \\nDISPOSITION (including condition upon discharge):  The patient will \\nbe admitted to the medicine service for further work up and \\nevaluation.  The patient is in stable condition. \\n___________________________________                    CY313/62627 \\nO. DE OTIS, M.D.       DO36                       D:01/18/75 \\n                                                       T:01/18/75 \\nDictated by:  O. DE OTIS, M.D.       DO36 \\n ******** Not reviewed by Attending Physician ********\\n\\n\\n\\n\\n****************************************************************************************************\\nRecord date: 2076-07-20\\n\\n                                                       Patient Name: QUIJANO,BAYLEE [ MRN: 85362514MARY ]                                                         Date of Visit: 07/20/2076Chief Complaint\\t\\n\\nMs. Quijano is a 61 yo morbidly obese woman with CAD, OA, and CHF who is in for follow-up of these problems.  \\n\\n\\n\\nHistory of Present Illness\\t\\n\\nShe is working every day and feels much better than she did last year.  She has had multiple admissions in the past for CHF and for ischemia.  Recent echo shows septal and apical hypokinesis.  \\n\\n\\n\\nShe has had no chest pain.  She does not complain of SOB.  She does cough, but this is because of the air conditioning and postnasal drip, she believes.  \\n\\n\\n\\nShe also complains of severe knee pain, with the right worse than the left.  She can walk a little, but standing is very painful.  \\n\\n\\n\\nIn addition, she complains of some food intolerance.  She has a hard time eating breakfast because she gets abdominal cramps.  After eating orange juice, she gets terrible cramping and has to run to the bathroom to have a bowel movement.  She has changed her milk to lactaid, which she says helps.  Certain types of salad dressing also cause this reaction.  \\n\\n\\n\\nProblems\\t  \\n\\nMORBID OBESITY\\t      \\n\\nKNEE OA\\t      \\n\\nANSERINE BURSITIS, BILAT\\t      \\n\\nS/P 2 C-SECTIONS\\t      \\n\\nHTN\\t      \\n\\nCAD\\t      \\n\\nCHF\\t      \\n\\nASTHMA\\t      \\n\\n\\n\\nMedications\\t  \\n\\nVENTOLIN\\t 2PUFFS INH QID\\n\\nAZMACORT\\t 4PUFFS INH BID\\n\\nECASA\\t 1  PO QD\\n\\nATROVENT\\t 2PUFFS INH QID\\n\\nTNG 0.4 MG\\t    SL \\n\\nSEREVENT\\t 2PUFFS INH BID\\n\\nFLOVENT\\t 220MCG INH BID\\n\\nCOZAAR\\t 100MG PO QD\\n\\nLOPRESSOR\\t 25MG PO TID\\n\\nLASIX\\t 60MG PO BID\\n\\nZANTAC\\t 150MG PO BID\\n\\nNORVASC\\t 10MG PO QD\\n\\nISOSORBIDE DINITRATE\\t 20MG 1 Tablet(s) PO TID\\n\\n\\n\\nAllergies\\t  \\n\\nLISINOPRIL\\t COUGH\\n\\n\\n\\nSocial History\\t\\n\\nEmployment:  Works in commercial diving.  \\n\\nMarital/Relationship:  She is married.  Her husband is retired. She has 3 children, and 3 grandchildren, and 2 great grand children!  Recently went down to Mississippi to celebrate her father\\'s 81st birthday.  They drove down in a van because she is afraid of flying.  \\n\\n\\n\\n\\n\\nFamily History\\t\\n\\nFather:  Alive, and very healthy.  \\n\\nMother:  Mother died at age 80 in Apr, 2075, of MI.  \\n\\nSiblings:  She has 12 siblings--she is the oldest.  None of them have weight problem.  Her two daughters have obesity.  Her grandson is also overweight at 12 years old.  \\n\\n\\n\\nHabits\\t\\n\\nTobacco:  Never.  \\n\\nEtOH:  None\\n\\nDrugs:  None\\n\\nSeatbelts:  Yes\\n\\nDomestic violence: None\\n\\nSleep:  She tends to sleep a little less than before.  She is tired during the day.  No daytime somnolence.  She wakes herself up with snoring.  \\n\\nExercise:  None.  \\n\\nEmotional history:  No depression.  \\n\\nDiet:  She is not really on a regimen.  She admits to lots of snacking.  \\n\\n\\n\\nReview of Systems\\t\\n\\nNo headaches, lightheadedness, vision changes.  No chest pain, SOB, DOE, palpitations.  No  abdominal pain, nausea, vomiting, constipation, diarrhea.  No change in bowel habits, BPBPR, melena. No dysuria, dypareunia.  No numbness, tingling, weakness, myalgias. No fever, chills, change in appetite, weight loss. Remainder of systems reviewed and negative.\\n\\n\\n\\n\\n\\nVital Signs\\t  \\n\\nBlood Pressure:\\t 178/80   \\n\\nPulse:\\t 88   \\n\\nHeight:\\t 62   Inches\\n\\nWeight:\\t 332   Pounds\\n\\n\\n\\nPhysical Exam\\t\\n\\nGeneral Appearance: Morbidly obese, very pleasant woman in no acute distress.  HEENT:  Normocephalic, atraumatic.  PERRLA, EOMI.  Neck:  No thyromegaly.  No JVD, carotid bruits, lymphadenopathy.  Neck is supple with full ROM.  Chest:  Clear to P and A.  No wheezes, rales, rhonchi.  Cardiac:  Normal S1, S2, no murmurs, rubs, or gallops. Breasts:  Symmetric, no masses, tenderness or nipple discharge.  Abdomen:  Normal bowel sounds, no HSM or tenderness.  Extremities: Crepitance in both knees.  4+ pretibial edema.   \\n\\n\\n\\nAssessment\\t\\n\\n1.  Hypertension:\\n\\n\\n\\nIncreased lasix to 80 mg po bid.  Increased lopressor to 50 mg po bid (she hadn\\'t been taking this).  RTC one month to see me for f/u.  \\n\\n\\n\\n2.  Hypercholesterolemia:\\n\\n\\n\\nFor some reason, she had stopped taking her zocor.  I restarted her on lipitor 20 mg po qd, given her very high dLDL on 5/26/76--171.  Checked AST today.  She will come in tomorrow for fasting cholesterol levels.  \\n\\n\\n\\n3.  Obesity:\\n\\n\\n\\nShe is making no progress in this area, and in fact is getting worse.  Her daughter had the gastric bypass operation and has lost 100 lbs.  She is receptive to the idea of going for a consultation.  She had gone to Weight Clinic before for the liquid diet, but she could no longer afford to go.  \\n\\n\\n\\nPlan:  \\n\\nReferral to Dr. Bobby Davison.\\n\\nChecked TSH\\n\\n\\n\\n4.  Polyuria, polydypsia:\\n\\n\\n\\nShe has had one random BS of 170, and another of 136.  We will have her come back for a FBS tomorrow.  Also checked Cre, K.  \\n\\n\\n\\n\\n\\n\\n\\n\\n\\n______________________________                              \\n\\n\\n\\nXanthopoulos, Kelly Willie, M.D.\\n\\n\\n\\n****************************************************************************************************\\nRecord date: 2077-02-05\\n\\n                     AASC EMERGENCY DEPT VISIT\\n\\n \\n\\nQUIJANO,BAYLEE   853-62-51-4\\n\\nMs. Quijano is a 62-year-old female who was seen by the resident and \\n\\nseen and examined by me.\\n\\nPRESENTING COMPLAINT:  Nausea, vomiting and diarrhea.\\n\\nHISTORY OF PRESENTING COMPLAINT:  Patient is a 62-year-old female \\n\\nwith history of asthma and CHF with coronary artery disease, \\n\\npresents now with multiple episodes of vomiting and diarrhea and \\n\\n\"feeling sick\".  Has no history of fevers.  Mildly tachycardic with \\n\\na pulse rate of 100.\\n\\nREVIEW OF SYSTEMS:  Stated that recently was feeling sick.  Had a \\n\\nchest x-ray recently and was negative.  Treated with Amoxicillin, \\n\\nbut still continued to have some mild cough and wheezes.  That \\n\\nbrought her to the Emergency Department, but no complaints of any \\n\\nnew shortness of breath, but has this persistent cough that has not \\n\\ngone away despite being treated with antibiotics.  Denies fever or \\n\\nchills.  Denies shortness of breath.  Denies dyspnea on exertion.  \\n\\nDenies PND.   Review of systems otherwise unremarkable.\\n\\nPAST MEDICAL HISTORY:  History of hypertension, CHF, asthma, status \\n\\npost cholecystectomy.  History of coronary artery disease.  Status \\n\\npost C-section times two.  \\n\\nMEDICATIONS:  On multiple medicines including Ventolin, Lasix, \\n\\nLopressor and Zantac as well as Lipitor.\\n\\nPHYSICAL EXAMINATION:  HEENT:  Normal.  NECK:  Supple.  LUNGS:  \\n\\nSome mild wheezes bilaterally.  No rales however.  No respiratory \\n\\ndistress.  Some course rhonchi heard throughout lung fields.  \\n\\nCARDIAC EXAM:  Regular rate and rhythm.  No murmurs.  ABDOMEN:  \\n\\nSoft, nontender without any masses.  MUSCULOSKELETAL:  Shows trace \\n\\nedema greatest in the lower extremities, but good pulses, normal.  \\n\\nCapillary refill and neurological is intact.\\n\\nLABORATORY EVALUATION:  Full laboratory studies were done including \\n\\nchest x-ray.  EKG showed sinus rhythm with T-wave inversion in A, V \\n\\nand L.  This is not new based on old cardiograms.  Chest x-ray \\n\\nshows some cardiomegaly and a fluffy chest x-ray indicating CHF.  \\n\\nElectrolytes, BUN and creatinine normal.  Hematocrit of 45 and a \\n\\nnormal white count.   \\n\\nTHERAPY RENDERED/COURSE IN ED:  Initially systolic blood pressure \\n\\nwas over 200 and diastolic over 91 and patient also received some \\n\\nDiltiazem for blood pressure control.  \\n\\nAssessment:  This is a 62-year-old woman who has vomiting, \\n\\ndiarrhea, and \"feeling sick\" and she has a chronic cough despite \\n\\nrecent treatment with antibiotics, but no shortness of breath, now \\n\\nfound to be in CHF on chest x-ray.  Patient has been diuresed.  PCP \\n\\nis aware.  She is going to be admitted. \\n\\nCONSULTATIONS (including PCP):  Primary care physician.\\n\\nFINAL DIAGNOSIS:  Cough with congestive heart failure.\\n\\nDISPOSITION (including condition upon discharge):  The patient was \\n\\nadmitted to the hospital in stable condition.\\n\\n___________________________________                    UZ272/3146\\n\\nFRANK ISON, M.D.       FI65                           D:02/05/77 \\n\\n                                                       T:02/05/77 \\n\\nDictated by:  FRANK ISON, M.D.       FI65 \\n\\n ******** Not reviewed by Attending Physician ********\\n\\n\\n\\n\\n\\n****************************************************************************************************'"
      ]
     },
     "execution_count": 15,
     "metadata": {},
     "output_type": "execute_result"
    }
   ],
   "source": [
    "doc['PatientMatching']['TEXT']"
   ]
  },
  {
   "cell_type": "markdown",
   "metadata": {},
   "source": [
    "### Create a Pandas Dataframe from the Files\n",
    "The dataframe contains all the content from all the files. Each row is identified by the file name some we can refer it back later."
   ]
  },
  {
   "cell_type": "code",
   "execution_count": 35,
   "metadata": {
    "collapsed": true
   },
   "outputs": [],
   "source": [
    "record_files = []\n",
    "record_text = []\n",
    "tags2lists = {}"
   ]
  },
  {
   "cell_type": "code",
   "execution_count": 36,
   "metadata": {},
   "outputs": [
    {
     "data": {
      "text/plain": [
       "13"
      ]
     },
     "execution_count": 36,
     "metadata": {},
     "output_type": "execute_result"
    }
   ],
   "source": [
    "tags = ['ABDOMINAL', 'ADVANCED-CAD', 'ALCOHOL-ABUSE', 'ASP-FOR-MI', 'CREATININE', \\\n",
    "        'DIETSUPP-2MOS', 'DRUG-ABUSE', 'ENGLISH', 'HBA1C', 'KETO-1YR',\\\n",
    "        'MAJOR-DIABETES', 'MAKES-DECISIONS', 'MI-6MOS']\n",
    "len(tags)"
   ]
  },
  {
   "cell_type": "code",
   "execution_count": 37,
   "metadata": {
    "collapsed": true
   },
   "outputs": [],
   "source": [
    "for file in files:\n",
    "    with open(\"train/\" + file, \"r\") as fd:\n",
    "        doc = xmltodict.parse(fd.read())\n",
    "        record_files.append(file)\n",
    "        record_text.append(doc['PatientMatching']['TEXT'])\n",
    "        for tag in tags:\n",
    "            alist = []\n",
    "            if tag in tags2lists.keys():\n",
    "                alist = tags2lists[tag]\n",
    "            else:\n",
    "                tags2lists[tag] = alist\n",
    "            \n",
    "            alist.append(doc[\"PatientMatching\"][\"TAGS\"][tag]['@met'])"
   ]
  },
  {
   "cell_type": "code",
   "execution_count": 38,
   "metadata": {},
   "outputs": [
    {
     "data": {
      "text/plain": [
       "202"
      ]
     },
     "execution_count": 38,
     "metadata": {},
     "output_type": "execute_result"
    }
   ],
   "source": [
    "len(tags2lists['MI-6MOS'])"
   ]
  },
  {
   "cell_type": "code",
   "execution_count": 39,
   "metadata": {},
   "outputs": [
    {
     "data": {
      "text/plain": [
       "202"
      ]
     },
     "execution_count": 39,
     "metadata": {},
     "output_type": "execute_result"
    }
   ],
   "source": [
    "len(record_text)"
   ]
  },
  {
   "cell_type": "code",
   "execution_count": 42,
   "metadata": {
    "collapsed": true
   },
   "outputs": [],
   "source": [
    "tags2lists['record_file'] = record_files\n",
    "tags2lists['record_text'] = record_text\n",
    "df = pd.DataFrame(tags2lists)"
   ]
  },
  {
   "cell_type": "code",
   "execution_count": 43,
   "metadata": {},
   "outputs": [
    {
     "data": {
      "text/html": [
       "<div>\n",
       "<style>\n",
       "    .dataframe thead tr:only-child th {\n",
       "        text-align: right;\n",
       "    }\n",
       "\n",
       "    .dataframe thead th {\n",
       "        text-align: left;\n",
       "    }\n",
       "\n",
       "    .dataframe tbody tr th {\n",
       "        vertical-align: top;\n",
       "    }\n",
       "</style>\n",
       "<table border=\"1\" class=\"dataframe\">\n",
       "  <thead>\n",
       "    <tr style=\"text-align: right;\">\n",
       "      <th></th>\n",
       "      <th>ABDOMINAL</th>\n",
       "      <th>ADVANCED-CAD</th>\n",
       "      <th>ALCOHOL-ABUSE</th>\n",
       "      <th>ASP-FOR-MI</th>\n",
       "      <th>CREATININE</th>\n",
       "      <th>DIETSUPP-2MOS</th>\n",
       "      <th>DRUG-ABUSE</th>\n",
       "      <th>ENGLISH</th>\n",
       "      <th>HBA1C</th>\n",
       "      <th>KETO-1YR</th>\n",
       "      <th>MAJOR-DIABETES</th>\n",
       "      <th>MAKES-DECISIONS</th>\n",
       "      <th>MI-6MOS</th>\n",
       "      <th>record_file</th>\n",
       "      <th>record_files</th>\n",
       "      <th>record_text</th>\n",
       "    </tr>\n",
       "  </thead>\n",
       "  <tbody>\n",
       "    <tr>\n",
       "      <th>0</th>\n",
       "      <td>met</td>\n",
       "      <td>met</td>\n",
       "      <td>not met</td>\n",
       "      <td>met</td>\n",
       "      <td>not met</td>\n",
       "      <td>not met</td>\n",
       "      <td>not met</td>\n",
       "      <td>met</td>\n",
       "      <td>not met</td>\n",
       "      <td>not met</td>\n",
       "      <td>not met</td>\n",
       "      <td>met</td>\n",
       "      <td>not met</td>\n",
       "      <td>162.xml</td>\n",
       "      <td>162.xml</td>\n",
       "      <td>Record date: 2068-02-04\\n\\nASSOCIATED ARTHRITI...</td>\n",
       "    </tr>\n",
       "    <tr>\n",
       "      <th>1</th>\n",
       "      <td>met</td>\n",
       "      <td>not met</td>\n",
       "      <td>met</td>\n",
       "      <td>not met</td>\n",
       "      <td>not met</td>\n",
       "      <td>met</td>\n",
       "      <td>not met</td>\n",
       "      <td>met</td>\n",
       "      <td>not met</td>\n",
       "      <td>not met</td>\n",
       "      <td>not met</td>\n",
       "      <td>met</td>\n",
       "      <td>not met</td>\n",
       "      <td>176.xml</td>\n",
       "      <td>176.xml</td>\n",
       "      <td>Record date: 2085-04-22\\n\\n \\nThis patient wan...</td>\n",
       "    </tr>\n",
       "    <tr>\n",
       "      <th>2</th>\n",
       "      <td>not met</td>\n",
       "      <td>met</td>\n",
       "      <td>not met</td>\n",
       "      <td>met</td>\n",
       "      <td>met</td>\n",
       "      <td>met</td>\n",
       "      <td>not met</td>\n",
       "      <td>met</td>\n",
       "      <td>met</td>\n",
       "      <td>not met</td>\n",
       "      <td>met</td>\n",
       "      <td>met</td>\n",
       "      <td>not met</td>\n",
       "      <td>189.xml</td>\n",
       "      <td>189.xml</td>\n",
       "      <td>Record date: 2090-07-07\\n\\nWillow Gardens Care...</td>\n",
       "    </tr>\n",
       "    <tr>\n",
       "      <th>3</th>\n",
       "      <td>not met</td>\n",
       "      <td>met</td>\n",
       "      <td>not met</td>\n",
       "      <td>met</td>\n",
       "      <td>not met</td>\n",
       "      <td>met</td>\n",
       "      <td>not met</td>\n",
       "      <td>not met</td>\n",
       "      <td>met</td>\n",
       "      <td>not met</td>\n",
       "      <td>not met</td>\n",
       "      <td>met</td>\n",
       "      <td>met</td>\n",
       "      <td>214.xml</td>\n",
       "      <td>214.xml</td>\n",
       "      <td>Record date: 2096-07-15\\n\\n\\n\\nResults01/31/20...</td>\n",
       "    </tr>\n",
       "    <tr>\n",
       "      <th>4</th>\n",
       "      <td>met</td>\n",
       "      <td>not met</td>\n",
       "      <td>not met</td>\n",
       "      <td>met</td>\n",
       "      <td>not met</td>\n",
       "      <td>met</td>\n",
       "      <td>not met</td>\n",
       "      <td>met</td>\n",
       "      <td>not met</td>\n",
       "      <td>not met</td>\n",
       "      <td>met</td>\n",
       "      <td>met</td>\n",
       "      <td>not met</td>\n",
       "      <td>200.xml</td>\n",
       "      <td>200.xml</td>\n",
       "      <td>Record date: 2170-02-17\\n\\n \\n\\nReason for Vis...</td>\n",
       "    </tr>\n",
       "  </tbody>\n",
       "</table>\n",
       "</div>"
      ],
      "text/plain": [
       "  ABDOMINAL ADVANCED-CAD ALCOHOL-ABUSE ASP-FOR-MI CREATININE DIETSUPP-2MOS  \\\n",
       "0       met          met       not met        met    not met       not met   \n",
       "1       met      not met           met    not met    not met           met   \n",
       "2   not met          met       not met        met        met           met   \n",
       "3   not met          met       not met        met    not met           met   \n",
       "4       met      not met       not met        met    not met           met   \n",
       "\n",
       "  DRUG-ABUSE  ENGLISH    HBA1C KETO-1YR MAJOR-DIABETES MAKES-DECISIONS  \\\n",
       "0    not met      met  not met  not met        not met             met   \n",
       "1    not met      met  not met  not met        not met             met   \n",
       "2    not met      met      met  not met            met             met   \n",
       "3    not met  not met      met  not met        not met             met   \n",
       "4    not met      met  not met  not met            met             met   \n",
       "\n",
       "   MI-6MOS record_file record_files  \\\n",
       "0  not met     162.xml      162.xml   \n",
       "1  not met     176.xml      176.xml   \n",
       "2  not met     189.xml      189.xml   \n",
       "3      met     214.xml      214.xml   \n",
       "4  not met     200.xml      200.xml   \n",
       "\n",
       "                                         record_text  \n",
       "0  Record date: 2068-02-04\\n\\nASSOCIATED ARTHRITI...  \n",
       "1  Record date: 2085-04-22\\n\\n \\nThis patient wan...  \n",
       "2  Record date: 2090-07-07\\n\\nWillow Gardens Care...  \n",
       "3  Record date: 2096-07-15\\n\\n\\n\\nResults01/31/20...  \n",
       "4  Record date: 2170-02-17\\n\\n \\n\\nReason for Vis...  "
      ]
     },
     "execution_count": 43,
     "metadata": {},
     "output_type": "execute_result"
    }
   ],
   "source": [
    "df.head()"
   ]
  },
  {
   "cell_type": "code",
   "execution_count": 45,
   "metadata": {
    "collapsed": true
   },
   "outputs": [],
   "source": [
    "df = df[['record_file', 'record_text', 'ABDOMINAL', 'ADVANCED-CAD', 'ALCOHOL-ABUSE', 'ASP-FOR-MI', 'CREATININE', \\\n",
    "        'DIETSUPP-2MOS', 'DRUG-ABUSE', 'ENGLISH', 'HBA1C', 'KETO-1YR',\\\n",
    "        'MAJOR-DIABETES', 'MAKES-DECISIONS', 'MI-6MOS']]"
   ]
  },
  {
   "cell_type": "code",
   "execution_count": 46,
   "metadata": {},
   "outputs": [
    {
     "data": {
      "text/html": [
       "<div>\n",
       "<style>\n",
       "    .dataframe thead tr:only-child th {\n",
       "        text-align: right;\n",
       "    }\n",
       "\n",
       "    .dataframe thead th {\n",
       "        text-align: left;\n",
       "    }\n",
       "\n",
       "    .dataframe tbody tr th {\n",
       "        vertical-align: top;\n",
       "    }\n",
       "</style>\n",
       "<table border=\"1\" class=\"dataframe\">\n",
       "  <thead>\n",
       "    <tr style=\"text-align: right;\">\n",
       "      <th></th>\n",
       "      <th>record_file</th>\n",
       "      <th>record_text</th>\n",
       "      <th>ABDOMINAL</th>\n",
       "      <th>ADVANCED-CAD</th>\n",
       "      <th>ALCOHOL-ABUSE</th>\n",
       "      <th>ASP-FOR-MI</th>\n",
       "      <th>CREATININE</th>\n",
       "      <th>DIETSUPP-2MOS</th>\n",
       "      <th>DRUG-ABUSE</th>\n",
       "      <th>ENGLISH</th>\n",
       "      <th>HBA1C</th>\n",
       "      <th>KETO-1YR</th>\n",
       "      <th>MAJOR-DIABETES</th>\n",
       "      <th>MAKES-DECISIONS</th>\n",
       "      <th>MI-6MOS</th>\n",
       "    </tr>\n",
       "  </thead>\n",
       "  <tbody>\n",
       "    <tr>\n",
       "      <th>0</th>\n",
       "      <td>162.xml</td>\n",
       "      <td>Record date: 2068-02-04\\n\\nASSOCIATED ARTHRITI...</td>\n",
       "      <td>met</td>\n",
       "      <td>met</td>\n",
       "      <td>not met</td>\n",
       "      <td>met</td>\n",
       "      <td>not met</td>\n",
       "      <td>not met</td>\n",
       "      <td>not met</td>\n",
       "      <td>met</td>\n",
       "      <td>not met</td>\n",
       "      <td>not met</td>\n",
       "      <td>not met</td>\n",
       "      <td>met</td>\n",
       "      <td>not met</td>\n",
       "    </tr>\n",
       "    <tr>\n",
       "      <th>1</th>\n",
       "      <td>176.xml</td>\n",
       "      <td>Record date: 2085-04-22\\n\\n \\nThis patient wan...</td>\n",
       "      <td>met</td>\n",
       "      <td>not met</td>\n",
       "      <td>met</td>\n",
       "      <td>not met</td>\n",
       "      <td>not met</td>\n",
       "      <td>met</td>\n",
       "      <td>not met</td>\n",
       "      <td>met</td>\n",
       "      <td>not met</td>\n",
       "      <td>not met</td>\n",
       "      <td>not met</td>\n",
       "      <td>met</td>\n",
       "      <td>not met</td>\n",
       "    </tr>\n",
       "    <tr>\n",
       "      <th>2</th>\n",
       "      <td>189.xml</td>\n",
       "      <td>Record date: 2090-07-07\\n\\nWillow Gardens Care...</td>\n",
       "      <td>not met</td>\n",
       "      <td>met</td>\n",
       "      <td>not met</td>\n",
       "      <td>met</td>\n",
       "      <td>met</td>\n",
       "      <td>met</td>\n",
       "      <td>not met</td>\n",
       "      <td>met</td>\n",
       "      <td>met</td>\n",
       "      <td>not met</td>\n",
       "      <td>met</td>\n",
       "      <td>met</td>\n",
       "      <td>not met</td>\n",
       "    </tr>\n",
       "    <tr>\n",
       "      <th>3</th>\n",
       "      <td>214.xml</td>\n",
       "      <td>Record date: 2096-07-15\\n\\n\\n\\nResults01/31/20...</td>\n",
       "      <td>not met</td>\n",
       "      <td>met</td>\n",
       "      <td>not met</td>\n",
       "      <td>met</td>\n",
       "      <td>not met</td>\n",
       "      <td>met</td>\n",
       "      <td>not met</td>\n",
       "      <td>not met</td>\n",
       "      <td>met</td>\n",
       "      <td>not met</td>\n",
       "      <td>not met</td>\n",
       "      <td>met</td>\n",
       "      <td>met</td>\n",
       "    </tr>\n",
       "    <tr>\n",
       "      <th>4</th>\n",
       "      <td>200.xml</td>\n",
       "      <td>Record date: 2170-02-17\\n\\n \\n\\nReason for Vis...</td>\n",
       "      <td>met</td>\n",
       "      <td>not met</td>\n",
       "      <td>not met</td>\n",
       "      <td>met</td>\n",
       "      <td>not met</td>\n",
       "      <td>met</td>\n",
       "      <td>not met</td>\n",
       "      <td>met</td>\n",
       "      <td>not met</td>\n",
       "      <td>not met</td>\n",
       "      <td>met</td>\n",
       "      <td>met</td>\n",
       "      <td>not met</td>\n",
       "    </tr>\n",
       "  </tbody>\n",
       "</table>\n",
       "</div>"
      ],
      "text/plain": [
       "  record_file                                        record_text ABDOMINAL  \\\n",
       "0     162.xml  Record date: 2068-02-04\\n\\nASSOCIATED ARTHRITI...       met   \n",
       "1     176.xml  Record date: 2085-04-22\\n\\n \\nThis patient wan...       met   \n",
       "2     189.xml  Record date: 2090-07-07\\n\\nWillow Gardens Care...   not met   \n",
       "3     214.xml  Record date: 2096-07-15\\n\\n\\n\\nResults01/31/20...   not met   \n",
       "4     200.xml  Record date: 2170-02-17\\n\\n \\n\\nReason for Vis...       met   \n",
       "\n",
       "  ADVANCED-CAD ALCOHOL-ABUSE ASP-FOR-MI CREATININE DIETSUPP-2MOS DRUG-ABUSE  \\\n",
       "0          met       not met        met    not met       not met    not met   \n",
       "1      not met           met    not met    not met           met    not met   \n",
       "2          met       not met        met        met           met    not met   \n",
       "3          met       not met        met    not met           met    not met   \n",
       "4      not met       not met        met    not met           met    not met   \n",
       "\n",
       "   ENGLISH    HBA1C KETO-1YR MAJOR-DIABETES MAKES-DECISIONS  MI-6MOS  \n",
       "0      met  not met  not met        not met             met  not met  \n",
       "1      met  not met  not met        not met             met  not met  \n",
       "2      met      met  not met            met             met  not met  \n",
       "3  not met      met  not met        not met             met      met  \n",
       "4      met  not met  not met            met             met  not met  "
      ]
     },
     "execution_count": 46,
     "metadata": {},
     "output_type": "execute_result"
    }
   ],
   "source": [
    "df.head()"
   ]
  },
  {
   "cell_type": "code",
   "execution_count": 47,
   "metadata": {},
   "outputs": [
    {
     "name": "stdout",
     "output_type": "stream",
     "text": [
      "<class 'pandas.core.frame.DataFrame'>\n",
      "RangeIndex: 202 entries, 0 to 201\n",
      "Data columns (total 15 columns):\n",
      "record_file        202 non-null object\n",
      "record_text        202 non-null object\n",
      "ABDOMINAL          202 non-null object\n",
      "ADVANCED-CAD       202 non-null object\n",
      "ALCOHOL-ABUSE      202 non-null object\n",
      "ASP-FOR-MI         202 non-null object\n",
      "CREATININE         202 non-null object\n",
      "DIETSUPP-2MOS      202 non-null object\n",
      "DRUG-ABUSE         202 non-null object\n",
      "ENGLISH            202 non-null object\n",
      "HBA1C              202 non-null object\n",
      "KETO-1YR           202 non-null object\n",
      "MAJOR-DIABETES     202 non-null object\n",
      "MAKES-DECISIONS    202 non-null object\n",
      "MI-6MOS            202 non-null object\n",
      "dtypes: object(15)\n",
      "memory usage: 23.8+ KB\n"
     ]
    }
   ],
   "source": [
    "df.info()"
   ]
  },
  {
   "cell_type": "markdown",
   "metadata": {},
   "source": [
    "## Save the Data as CSV "
   ]
  },
  {
   "cell_type": "code",
   "execution_count": 48,
   "metadata": {
    "collapsed": true
   },
   "outputs": [],
   "source": [
    "df.to_csv(\"all-train.csv\")"
   ]
  },
  {
   "cell_type": "markdown",
   "metadata": {},
   "source": [
    "# Vectorization"
   ]
  },
  {
   "cell_type": "code",
   "execution_count": 8,
   "metadata": {
    "collapsed": true
   },
   "outputs": [],
   "source": [
    "train_df = pd.read_csv(\"all-train.csv\")"
   ]
  },
  {
   "cell_type": "code",
   "execution_count": 13,
   "metadata": {},
   "outputs": [
    {
     "data": {
      "text/html": [
       "<div>\n",
       "<style>\n",
       "    .dataframe thead tr:only-child th {\n",
       "        text-align: right;\n",
       "    }\n",
       "\n",
       "    .dataframe thead th {\n",
       "        text-align: left;\n",
       "    }\n",
       "\n",
       "    .dataframe tbody tr th {\n",
       "        vertical-align: top;\n",
       "    }\n",
       "</style>\n",
       "<table border=\"1\" class=\"dataframe\">\n",
       "  <thead>\n",
       "    <tr style=\"text-align: right;\">\n",
       "      <th></th>\n",
       "      <th>Unnamed: 0</th>\n",
       "      <th>record_file</th>\n",
       "      <th>record_text</th>\n",
       "      <th>ABDOMINAL</th>\n",
       "      <th>ADVANCED-CAD</th>\n",
       "      <th>ALCOHOL-ABUSE</th>\n",
       "      <th>ASP-FOR-MI</th>\n",
       "      <th>CREATININE</th>\n",
       "      <th>DIETSUPP-2MOS</th>\n",
       "      <th>DRUG-ABUSE</th>\n",
       "      <th>ENGLISH</th>\n",
       "      <th>HBA1C</th>\n",
       "      <th>KETO-1YR</th>\n",
       "      <th>MAJOR-DIABETES</th>\n",
       "      <th>MAKES-DECISIONS</th>\n",
       "      <th>MI-6MOS</th>\n",
       "    </tr>\n",
       "  </thead>\n",
       "  <tbody>\n",
       "    <tr>\n",
       "      <th>0</th>\n",
       "      <td>0</td>\n",
       "      <td>162.xml</td>\n",
       "      <td>Record date: 2068-02-04\\n\\nASSOCIATED ARTHRITI...</td>\n",
       "      <td>met</td>\n",
       "      <td>met</td>\n",
       "      <td>not met</td>\n",
       "      <td>met</td>\n",
       "      <td>not met</td>\n",
       "      <td>not met</td>\n",
       "      <td>not met</td>\n",
       "      <td>met</td>\n",
       "      <td>not met</td>\n",
       "      <td>not met</td>\n",
       "      <td>not met</td>\n",
       "      <td>met</td>\n",
       "      <td>not met</td>\n",
       "    </tr>\n",
       "    <tr>\n",
       "      <th>1</th>\n",
       "      <td>1</td>\n",
       "      <td>176.xml</td>\n",
       "      <td>Record date: 2085-04-22\\n\\n \\nThis patient wan...</td>\n",
       "      <td>met</td>\n",
       "      <td>not met</td>\n",
       "      <td>met</td>\n",
       "      <td>not met</td>\n",
       "      <td>not met</td>\n",
       "      <td>met</td>\n",
       "      <td>not met</td>\n",
       "      <td>met</td>\n",
       "      <td>not met</td>\n",
       "      <td>not met</td>\n",
       "      <td>not met</td>\n",
       "      <td>met</td>\n",
       "      <td>not met</td>\n",
       "    </tr>\n",
       "    <tr>\n",
       "      <th>2</th>\n",
       "      <td>2</td>\n",
       "      <td>189.xml</td>\n",
       "      <td>Record date: 2090-07-07\\n\\nWillow Gardens Care...</td>\n",
       "      <td>not met</td>\n",
       "      <td>met</td>\n",
       "      <td>not met</td>\n",
       "      <td>met</td>\n",
       "      <td>met</td>\n",
       "      <td>met</td>\n",
       "      <td>not met</td>\n",
       "      <td>met</td>\n",
       "      <td>met</td>\n",
       "      <td>not met</td>\n",
       "      <td>met</td>\n",
       "      <td>met</td>\n",
       "      <td>not met</td>\n",
       "    </tr>\n",
       "    <tr>\n",
       "      <th>3</th>\n",
       "      <td>3</td>\n",
       "      <td>214.xml</td>\n",
       "      <td>Record date: 2096-07-15\\n\\n\\n\\nResults01/31/20...</td>\n",
       "      <td>not met</td>\n",
       "      <td>met</td>\n",
       "      <td>not met</td>\n",
       "      <td>met</td>\n",
       "      <td>not met</td>\n",
       "      <td>met</td>\n",
       "      <td>not met</td>\n",
       "      <td>not met</td>\n",
       "      <td>met</td>\n",
       "      <td>not met</td>\n",
       "      <td>not met</td>\n",
       "      <td>met</td>\n",
       "      <td>met</td>\n",
       "    </tr>\n",
       "    <tr>\n",
       "      <th>4</th>\n",
       "      <td>4</td>\n",
       "      <td>200.xml</td>\n",
       "      <td>Record date: 2170-02-17\\n\\n \\n\\nReason for Vis...</td>\n",
       "      <td>met</td>\n",
       "      <td>not met</td>\n",
       "      <td>not met</td>\n",
       "      <td>met</td>\n",
       "      <td>not met</td>\n",
       "      <td>met</td>\n",
       "      <td>not met</td>\n",
       "      <td>met</td>\n",
       "      <td>not met</td>\n",
       "      <td>not met</td>\n",
       "      <td>met</td>\n",
       "      <td>met</td>\n",
       "      <td>not met</td>\n",
       "    </tr>\n",
       "  </tbody>\n",
       "</table>\n",
       "</div>"
      ],
      "text/plain": [
       "   Unnamed: 0 record_file                                        record_text  \\\n",
       "0           0     162.xml  Record date: 2068-02-04\\n\\nASSOCIATED ARTHRITI...   \n",
       "1           1     176.xml  Record date: 2085-04-22\\n\\n \\nThis patient wan...   \n",
       "2           2     189.xml  Record date: 2090-07-07\\n\\nWillow Gardens Care...   \n",
       "3           3     214.xml  Record date: 2096-07-15\\n\\n\\n\\nResults01/31/20...   \n",
       "4           4     200.xml  Record date: 2170-02-17\\n\\n \\n\\nReason for Vis...   \n",
       "\n",
       "  ABDOMINAL ADVANCED-CAD ALCOHOL-ABUSE ASP-FOR-MI CREATININE DIETSUPP-2MOS  \\\n",
       "0       met          met       not met        met    not met       not met   \n",
       "1       met      not met           met    not met    not met           met   \n",
       "2   not met          met       not met        met        met           met   \n",
       "3   not met          met       not met        met    not met           met   \n",
       "4       met      not met       not met        met    not met           met   \n",
       "\n",
       "  DRUG-ABUSE  ENGLISH    HBA1C KETO-1YR MAJOR-DIABETES MAKES-DECISIONS  \\\n",
       "0    not met      met  not met  not met        not met             met   \n",
       "1    not met      met  not met  not met        not met             met   \n",
       "2    not met      met      met  not met            met             met   \n",
       "3    not met  not met      met  not met        not met             met   \n",
       "4    not met      met  not met  not met            met             met   \n",
       "\n",
       "   MI-6MOS  \n",
       "0  not met  \n",
       "1  not met  \n",
       "2  not met  \n",
       "3      met  \n",
       "4  not met  "
      ]
     },
     "execution_count": 13,
     "metadata": {},
     "output_type": "execute_result"
    }
   ],
   "source": [
    "train_df.head()"
   ]
  },
  {
   "cell_type": "code",
   "execution_count": 10,
   "metadata": {},
   "outputs": [
    {
     "name": "stdout",
     "output_type": "stream",
     "text": [
      "<class 'pandas.core.frame.DataFrame'>\n",
      "RangeIndex: 202 entries, 0 to 201\n",
      "Data columns (total 16 columns):\n",
      "Unnamed: 0         202 non-null int64\n",
      "record_file        202 non-null object\n",
      "record_text        202 non-null object\n",
      "ABDOMINAL          202 non-null object\n",
      "ADVANCED-CAD       202 non-null object\n",
      "ALCOHOL-ABUSE      202 non-null object\n",
      "ASP-FOR-MI         202 non-null object\n",
      "CREATININE         202 non-null object\n",
      "DIETSUPP-2MOS      202 non-null object\n",
      "DRUG-ABUSE         202 non-null object\n",
      "ENGLISH            202 non-null object\n",
      "HBA1C              202 non-null object\n",
      "KETO-1YR           202 non-null object\n",
      "MAJOR-DIABETES     202 non-null object\n",
      "MAKES-DECISIONS    202 non-null object\n",
      "MI-6MOS            202 non-null object\n",
      "dtypes: int64(1), object(15)\n",
      "memory usage: 25.3+ KB\n"
     ]
    }
   ],
   "source": [
    "train_df.info()"
   ]
  },
  {
   "cell_type": "code",
   "execution_count": 11,
   "metadata": {
    "collapsed": true
   },
   "outputs": [],
   "source": [
    "train_text = train_df['record_text']"
   ]
  },
  {
   "cell_type": "code",
   "execution_count": 12,
   "metadata": {},
   "outputs": [
    {
     "data": {
      "text/plain": [
       "count                                                   202\n",
       "unique                                                  202\n",
       "top       Record date: 2079-01-14\\n\\n\\nPICH 9\\n89 James ...\n",
       "freq                                                      1\n",
       "Name: record_text, dtype: object"
      ]
     },
     "execution_count": 12,
     "metadata": {},
     "output_type": "execute_result"
    }
   ],
   "source": [
    "train_text.describe()"
   ]
  },
  {
   "cell_type": "code",
   "execution_count": 13,
   "metadata": {
    "collapsed": true
   },
   "outputs": [],
   "source": [
    "from sklearn.feature_extraction.text import TfidfVectorizer"
   ]
  },
  {
   "cell_type": "code",
   "execution_count": 14,
   "metadata": {
    "collapsed": true
   },
   "outputs": [],
   "source": [
    "vectorizer = TfidfVectorizer(analyzer=\"word\", ngram_range=(1,3), \\\n",
    "                            stop_words=\"english\", dtype=np.float32)"
   ]
  },
  {
   "cell_type": "code",
   "execution_count": 15,
   "metadata": {
    "collapsed": true
   },
   "outputs": [],
   "source": [
    "train_vec = vectorizer.fit_transform(train_text)"
   ]
  },
  {
   "cell_type": "code",
   "execution_count": 16,
   "metadata": {},
   "outputs": [
    {
     "data": {
      "text/plain": [
       "(202, 505950)"
      ]
     },
     "execution_count": 16,
     "metadata": {},
     "output_type": "execute_result"
    }
   ],
   "source": [
    "train_vec.shape"
   ]
  },
  {
   "cell_type": "markdown",
   "metadata": {},
   "source": [
    "# LogisticRegression"
   ]
  },
  {
   "cell_type": "code",
   "execution_count": 19,
   "metadata": {
    "collapsed": true
   },
   "outputs": [],
   "source": [
    "from sklearn.linear_model import LogisticRegression"
   ]
  },
  {
   "cell_type": "code",
   "execution_count": 20,
   "metadata": {},
   "outputs": [
    {
     "data": {
      "text/plain": [
       "Index(['Unnamed: 0', 'record_file', 'record_text', 'ABDOMINAL', 'ADVANCED-CAD',\n",
       "       'ALCOHOL-ABUSE', 'ASP-FOR-MI', 'CREATININE', 'DIETSUPP-2MOS',\n",
       "       'DRUG-ABUSE', 'ENGLISH', 'HBA1C', 'KETO-1YR', 'MAJOR-DIABETES',\n",
       "       'MAKES-DECISIONS', 'MI-6MOS'],\n",
       "      dtype='object')"
      ]
     },
     "execution_count": 20,
     "metadata": {},
     "output_type": "execute_result"
    }
   ],
   "source": [
    "train_df.columns"
   ]
  },
  {
   "cell_type": "code",
   "execution_count": 21,
   "metadata": {},
   "outputs": [
    {
     "data": {
      "text/plain": [
       "85.150000000000006"
      ]
     },
     "execution_count": 21,
     "metadata": {},
     "output_type": "execute_result"
    }
   ],
   "source": [
    "ABDOMINAL_Y_train = train_df['ABDOMINAL']\n",
    "logreg = LogisticRegression()\n",
    "logreg.fit(train_vec, ABDOMINAL_Y_train)\n",
    "acc_log = round(logreg.score(train_vec, ABDOMINAL_Y_train) * 100, 2)\n",
    "acc_log"
   ]
  },
  {
   "cell_type": "code",
   "execution_count": 22,
   "metadata": {},
   "outputs": [
    {
     "data": {
      "text/plain": [
       "90.099999999999994"
      ]
     },
     "execution_count": 22,
     "metadata": {},
     "output_type": "execute_result"
    }
   ],
   "source": [
    "ADVANCED_CAD_Y_train = train_df['ADVANCED-CAD']\n",
    "logreg = LogisticRegression()\n",
    "logreg.fit(train_vec, ADVANCED_CAD_Y_train)\n",
    "acc_log = round(logreg.score(train_vec, ADVANCED_CAD_Y_train) * 100, 2)\n",
    "acc_log"
   ]
  },
  {
   "cell_type": "code",
   "execution_count": 23,
   "metadata": {},
   "outputs": [
    {
     "data": {
      "text/plain": [
       "96.530000000000001"
      ]
     },
     "execution_count": 23,
     "metadata": {},
     "output_type": "execute_result"
    }
   ],
   "source": [
    "ALCOHOL_ABUSE_Y_train = train_df['ALCOHOL-ABUSE']\n",
    "logreg = LogisticRegression()\n",
    "logreg.fit(train_vec, ALCOHOL_ABUSE_Y_train)\n",
    "acc_log = round(logreg.score(train_vec, ALCOHOL_ABUSE_Y_train) * 100, 2)\n",
    "acc_log"
   ]
  },
  {
   "cell_type": "code",
   "execution_count": 24,
   "metadata": {},
   "outputs": [
    {
     "data": {
      "text/plain": [
       "80.200000000000003"
      ]
     },
     "execution_count": 24,
     "metadata": {},
     "output_type": "execute_result"
    }
   ],
   "source": [
    "ASP_Y_train = train_df['ASP-FOR-MI']\n",
    "logreg = LogisticRegression()\n",
    "logreg.fit(train_vec, ASP_Y_train)\n",
    "acc_log = round(logreg.score(train_vec, ASP_Y_train) * 100, 2)\n",
    "acc_log"
   ]
  },
  {
   "cell_type": "code",
   "execution_count": 25,
   "metadata": {},
   "outputs": [
    {
     "data": {
      "text/plain": [
       "96.530000000000001"
      ]
     },
     "execution_count": 25,
     "metadata": {},
     "output_type": "execute_result"
    }
   ],
   "source": [
    "CREATININE_Y_train = train_df['CREATININE']\n",
    "logreg = LogisticRegression()\n",
    "logreg.fit(train_vec, CREATININE_Y_train)\n",
    "acc_log = round(logreg.score(train_vec, CREATININE_Y_train) * 100, 2)\n",
    "acc_log"
   ]
  },
  {
   "cell_type": "code",
   "execution_count": 26,
   "metadata": {},
   "outputs": [
    {
     "data": {
      "text/plain": [
       "99.5"
      ]
     },
     "execution_count": 26,
     "metadata": {},
     "output_type": "execute_result"
    }
   ],
   "source": [
    "DIETSUPP_Y_train = train_df['DIETSUPP-2MOS']\n",
    "logreg = LogisticRegression()\n",
    "logreg.fit(train_vec, DIETSUPP_Y_train)\n",
    "acc_log = round(logreg.score(train_vec, DIETSUPP_Y_train) * 100, 2)\n",
    "acc_log"
   ]
  },
  {
   "cell_type": "code",
   "execution_count": 31,
   "metadata": {},
   "outputs": [
    {
     "data": {
      "text/plain": [
       "94.060000000000002"
      ]
     },
     "execution_count": 31,
     "metadata": {},
     "output_type": "execute_result"
    }
   ],
   "source": [
    "DRUG_Y_train = train_df['DRUG-ABUSE']\n",
    "logreg = LogisticRegression()\n",
    "logreg.fit(train_vec, DRUG_Y_train)\n",
    "acc_log = round(logreg.score(train_vec, DRUG_Y_train) * 100, 2)\n",
    "acc_log"
   ]
  },
  {
   "cell_type": "code",
   "execution_count": 32,
   "metadata": {},
   "outputs": [
    {
     "data": {
      "text/plain": [
       "95.049999999999997"
      ]
     },
     "execution_count": 32,
     "metadata": {},
     "output_type": "execute_result"
    }
   ],
   "source": [
    "ENGLISH_Y_train = train_df['ENGLISH']\n",
    "logreg = LogisticRegression()\n",
    "logreg.fit(train_vec, ENGLISH_Y_train)\n",
    "acc_log = round(logreg.score(train_vec, ENGLISH_Y_train) * 100, 2)\n",
    "acc_log"
   ]
  },
  {
   "cell_type": "code",
   "execution_count": 92,
   "metadata": {},
   "outputs": [
    {
     "data": {
      "text/plain": [
       "67.819999999999993"
      ]
     },
     "execution_count": 92,
     "metadata": {},
     "output_type": "execute_result"
    }
   ],
   "source": [
    "HBA1C_Y_train = train_df['HBA1C']\n",
    "logreg = LogisticRegression()\n",
    "logreg.fit(train_vec, HBA1C_Y_train)\n",
    "acc_log = round(logreg.score(train_vec, HBA1C_Y_train) * 100, 2)\n",
    "acc_log"
   ]
  },
  {
   "cell_type": "code",
   "execution_count": 99,
   "metadata": {},
   "outputs": [
    {
     "data": {
      "text/plain": [
       "99.5"
      ]
     },
     "execution_count": 99,
     "metadata": {},
     "output_type": "execute_result"
    }
   ],
   "source": [
    "KETO_Y_train = train_df['KETO-1YR']\n",
    "logreg = LogisticRegression()\n",
    "logreg.fit(train_vec, KETO_Y_train)\n",
    "acc_log = round(logreg.score(train_vec, KETO_Y_train) * 100, 2)\n",
    "acc_log"
   ]
  },
  {
   "cell_type": "code",
   "execution_count": 98,
   "metadata": {},
   "outputs": [
    {
     "data": {
      "text/plain": [
       "99.5"
      ]
     },
     "execution_count": 98,
     "metadata": {},
     "output_type": "execute_result"
    }
   ],
   "source": [
    "MAJOR_Y_train = train_df['MAJOR-DIABETES']\n",
    "logreg = LogisticRegression()\n",
    "logreg.fit(train_vec, MAJOR_Y_train)\n",
    "acc_log = round(logreg.score(train_vec, MAJOR_Y_train) * 100, 2)\n",
    "acc_log"
   ]
  },
  {
   "cell_type": "code",
   "execution_count": 85,
   "metadata": {},
   "outputs": [
    {
     "data": {
      "text/plain": [
       "96.040000000000006"
      ]
     },
     "execution_count": 85,
     "metadata": {},
     "output_type": "execute_result"
    }
   ],
   "source": [
    "MAKES_Y_train = train_df['MAKES-DECISIONS']\n",
    "logreg = LogisticRegression()\n",
    "logreg.fit(train_vec, MAKES_Y_train)\n",
    "acc_log = round(logreg.score(train_vec, MAKES_Y_train) * 100, 2)\n",
    "acc_log"
   ]
  },
  {
   "cell_type": "code",
   "execution_count": 93,
   "metadata": {},
   "outputs": [
    {
     "data": {
      "text/plain": [
       "91.090000000000003"
      ]
     },
     "execution_count": 93,
     "metadata": {},
     "output_type": "execute_result"
    }
   ],
   "source": [
    "MI_Y_train = train_df['MI-6MOS']\n",
    "logreg = LogisticRegression()\n",
    "logreg.fit(train_vec, MI_Y_train)\n",
    "acc_log = round(logreg.score(train_vec, MI_Y_train) * 100, 2)\n",
    "acc_log"
   ]
  },
  {
   "cell_type": "code",
   "execution_count": null,
   "metadata": {
    "collapsed": true
   },
   "outputs": [],
   "source": [
    "def train_logisticRegression(X_train, y_train):\n",
    "    param_grid = {'penalty': ['l1,'l2]}"
   ]
  },
  {
   "cell_type": "markdown",
   "metadata": {},
   "source": [
    "# Text Preprocessing"
   ]
  },
  {
   "cell_type": "code",
   "execution_count": 1,
   "metadata": {
    "collapsed": true
   },
   "outputs": [],
   "source": [
    "from nltk.stem.snowball import SnowballStemmer\n",
    "from nltk.corpus import stopwords\n",
    "from nltk.tokenize import word_tokenize\n",
    "import re"
   ]
  },
  {
   "cell_type": "code",
   "execution_count": 2,
   "metadata": {
    "collapsed": true
   },
   "outputs": [],
   "source": [
    "def preprocessing(text):\n",
    "    removelist = ['\\n','\\t']\n",
    "    tokens = word_tokenize(text.lower())\n",
    "    processed = []\n",
    "    pattern = re.compile(r\"\\d+-\\d+-\\d+\")\n",
    "    pattern2 = re.compile(r\"\\d+/\\d+/\\d+\")\n",
    "    pattern3 = re.compile(r\"was\")\n",
    "    pattern4 = re.compile(r\"\\d+/\\d+\")\n",
    "    for each in tokens:\n",
    "        if each not in removelist:            \n",
    "            match = pattern.search(each)\n",
    "            match2 = pattern2.search(each)\n",
    "            match3 = pattern3.search(each)\n",
    "            match4 = pattern4.search(each)\n",
    "            if not match and not match2 and not match3 and not match4:\n",
    "                processed.append(each)\n",
    "    res = ' '.join(processed)\n",
    "    res = re.sub('[^a-z0-9.%]',' ',res)\n",
    "    res = re.sub(r'\\s+', '', res)\n",
    "    return res"
   ]
  },
  {
   "cell_type": "code",
   "execution_count": 3,
   "metadata": {
    "collapsed": true
   },
   "outputs": [],
   "source": [
    "import pandas as pd\n",
    "train_df = pd.read_csv(\"all-train.csv\")\n",
    "test_df = pd.read_csv(\"all-test.csv\")"
   ]
  },
  {
   "cell_type": "code",
   "execution_count": 325,
   "metadata": {
    "collapsed": true
   },
   "outputs": [],
   "source": [
    "df_record = train_df['record_text'].copy()"
   ]
  },
  {
   "cell_type": "code",
   "execution_count": 326,
   "metadata": {},
   "outputs": [
    {
     "data": {
      "text/plain": [
       "(202,)"
      ]
     },
     "execution_count": 326,
     "metadata": {},
     "output_type": "execute_result"
    }
   ],
   "source": [
    "df_record.shape"
   ]
  },
  {
   "cell_type": "code",
   "execution_count": 327,
   "metadata": {
    "collapsed": true
   },
   "outputs": [],
   "source": [
    "for i, each in enumerate(df_record):\n",
    "    df_record[i] = preprocessing(each)"
   ]
  },
  {
   "cell_type": "code",
   "execution_count": 328,
   "metadata": {},
   "outputs": [
    {
     "data": {
      "text/plain": [
       "'recorddateccearpaincoughhpi49y.o.femalecocoughwithclearmucusleftearpainandnasalcongestionforthepastweek.shedeniesanychestpainshortnessofbreathfeverchillsorsweat.nosorethroat.shedoessmokeaboutonepackdayfor25yearsanddoesnotwanttoquit.shealsonotesproblemswithbendingherrightthumbwithouthotraumapainparathesiasornumbness.symptomspresentforpast3months.allergiesnkahealthmaintcholesterol222mammogramseereportinresultspapsmearseereportinresultshba1c10.70procedureshysterectomyflowsheetsbloodpressureweight206lbhentperrlaoralwoutlesionsnecksupplenasalturbinatesmildlyenlargedwithnosinustenderness.nolymphadenopathyandtmsclear.lungsctaextinabilitytobendrightthumbwithouttendernesswarmthorswelling.ap1.allergieswithcough.claritinandrobitussinforcoughandgivensmokinghistorywillcheckchestxray.2.rightthumbstiffness.checkxrayandreferraltoorthopedics.3.healthmaint.pt.declinedphysicalandonreviewingchartnotedtohavediabetes.recommendfuforphysicalandassessmentofdiabetes.gracec.valerieyunm.d.recorddateccfollowuplabsmrihpi49y.o.femalewithhodiabeteswhohadmedsresumedonlastvisit.sheisunabletocheckherbloodsugarduetounabletoaffordstripsandinsurancewillnotpayforthem.shestartedonpravacholforhyperlipidemiaandlisinoprilformicroalbuminuiraonlastvisitwithoutsideeffecttomeds.shehadanmriofhipswhichshowsmilddjdandarterialnoninvasivesshowingmilddiseaseontherightandmoderateontheleft.mammogramnegative.shecontinuestosmokebutisdonetoonepackdayfromtwopackday.shedeniesanychestpainshortnessofbreathorpalpitations.shehasdifficultywalkinglongdistancesduetoclaudication.problemsperipheralvasculardiseasediabetesmellitustype2hyperlipidemiaclaudicationmedicationsclaritinloratadine10mg10mgtablettake1poqdx30daysglipizidexlglipizidexl10mg10mgtabosm24take1poqdx30daysibuprofen800mg800mgtablettake1potidprnpainx30daystakewithfoodormilk.lisinopril2.5mg2.5mgtablettake1poqdx30daysmetformin500mg500mgtablettake1pobidx30dayspravastatinpravastatin10mg10mgtablettake1poqhsx30daystylenol3acetaminophenwcodeine30mg1tabpoq6hx21daysdonotdrivedrinkalcoholwiththismedication.allergiesnkafamilysocialhistorycoronaryarterydiseaserelativebrothercommentsho4vcabgbonecancerrelativefatherageofonset53livingnouterinecancerrelativemotherageofonset46livingnodiabetesmellitustype2relativebrotherrelativesisterrelativegrandfathermaternalhealthmaintsmokingstatuscurrentsmokerlastcounseldatenoofcigarettessmokedperday1019cigdayppdreadinesstochangereadytoquitnowmammogramseereportinresultspapsmearseereportinresultspneumovaxflowsheetsbloodpressurepulse78weight207lbage49y7.7mexamdeferred.ap1.pvd.startwalkingprogramdctobaccocholesteroldiabetesandhypertensioncontrol.startpletal.willalsoevaluateforcadgivenmultipleriskfactors.checkekgandschedulenonexercisestresstest.2.diabetes.continuecurrentmedsandchecklabsatfuvisitin2months.referralforeyeexam.3.hyperlipidemia.continueonpravacholandchecklastatnextvisit.4.tobaccouse.ptadvisedtodctobacco.shewantstotryonherownandifnosuccesswillconsidersupplementaltherapies.gracec.valerieyunm.d.recorddatesectionsofthisnotewerecreatedwithacopyandpasteaction.thesesectionsmaynothavecopiedcompletely.pleaseusecautionwhenrenderingclinicaljudgmentbasedontheinformationinthisnote.vascularsurgeryconsultnotedatetime10pmpatientadairhelenmr6842267ccrightfootinfectionhpi50yofdiabeticfemalewhonoticedrednessoftheright4thand5thtoesaboutaweekago.sheseenandgivencipro.herinfectionprogressed.shenowpresentswithworseninginfectionpainbutnofever.ofnoterosispositiveforsymptomsofclaudication.pmhpshdiabetesmellitustype2hyperlipidemiaclaudicationperipheralvasculardiseasemedscilostazolcilostazol100mg100mgtablettake1pobidglipizidexlglipizidexl10mg10mgtabosm24take1poqdlisinopril2.5mg2.5mgtablettake1poqdmetformin500mg500mgtablettake1pobidx30dayspravastatinpravastatin10mg10mgtablettake1poqhsx30daystramadoltramadol50mg50mgtablettake1poq6hprnx30daysallergynkdaexamtemp98hr104bprr16sat97%ranadaaox3extright5thtoeappearsnecrotic4thtoeulceratedlaterallywherethe4thand5thtoerubtogetherrforefootiserythematousandwarmedema.pulsefemdpptright1dleft1dlabschemistrydetailforadairhelenvnvhblood30sep21122054accession2693d15325testdescriptionresultflagsref.rangeunitsplasmasodium134l135145mmollplasmapotassium3.73.44.8mmollplasmachloride101100108mmollplasmacarbondioxide26.523.031.9mmollplasmaureanitrogen19825mgdlplasmacreatinine1.20.61.5mgdlplasmaglucose155h70110mgdlwbc12.7h4.511.0thcmmhct34.5l36.046.0%hgb12.012.016.0gmdlrbc4.034.005.20milcmmplt350150350thcummsuperstatpt12.910.313.2secsuperstatptinr1.1superstataptt28.822.134.0secmrarecentlyperformedbutnotread.bymyreadlooksasthoughiliacsandcfasareokbutthereisleftandrightsfalesions.thepoplitealarteryreconstitutesbilaterally.distallyonevesselrunoffdp.pleaseapdiabeticfootinfection.pvd.agreewithadmittomedicineforivantibioticsvascularsurgeryservicedr.salgado8217sservicewillfollowwithyousheislikelyacandidateforrevascularization.willreviewmraandprovidefurtherrecommendationsfurtherrecommendationsfortoeintheam.willfollowwithyoupleasecallvascularmillenservicewithquestions.discussedwithdr.kennedyvanceu.ariasmdresidentinsurgerypager51363recorddatevascularsurgerymillenserviceadmissionnotenameadairhelenmrndateattendingdr.salgadofellowdr.crossjuniordr.chandlerhistoryofpresentillness50yofwithniddmactivesmokinghypercholesterolemiaandseverepvdspptcaandmultipletoeamputationsfordiabeticfootnowpresentswithworseningwetgangrene.shefirstnoteddrainagefromherleftgreattoefivedayspriortoadmission.thisaccompaniedbytoeswellingfeversto100.5andchillsbutshedeniespaininherlgreattoe.almostsimultaneouswiththedrainagefromherlgreattoeshealsonotedincreasingpainfromthelateralaspectoftheplantarsurfaceofherleftforefootespeciallywhenwalking.shedeniesanytraumatoherleftfoot.shereportsthattheulceronherrightlateralfootisstableandshehasbeendressingitwithpanafilointmentasprescribedbydr.salgado.shedeniesanyrestpainandreportsthatherpriorclaudicationisalmostfullyresolvedfollowingherrsfaangioplastylastyear.shepresentedtodaytodr.salgado8217sclinicforroutinefollowupwhenwetgangreneofherlgreattoedetectedonclinicalexam.furthermoresheunderwentrepeatalenisthatdemonstratedamajordeclineintheabiofherrlegsuggestiveofworseningperipheralvasculardisease.sheisnowadmittedforparenteralantibioticsandamputationofthelgreattoeanddebridementoftherforefootulcer.pastmedicalhistory1diabetesmellitustype2a1cs82117.70%in7.60%in211210.10%in211110.70%in21069.80%in21042hypercholesterolemia3smoking50packyearscurrently189packperdayrecentlystartedchantix4pvdwithclaudicationandlowerextremityulcersarterialvascularstudyrightabi0.34downfrom0.69andleftabi0.81diseasediffuselyinrleg5uterinecancerpastsurgicalhistory2097tahbsoballoonangioplastyofrightsuperficialfemoralarteryandrightperonealarterythrombininjectionforleftcommonfemoralarteryr5thtoeamputationl4thtoeamputationfootdebridementsocialhistoryworksaswaitressathardeesandcashieratbarnesnoble.nokidsclosesttosistertrudytobacco50packyearcurrentlypackperdayhadrecentlyquitfor4weeksbutrestarteddueto8220stress8221.triedtostartchantixbutinsurancedoesnotcover.noetohnodrugsfamilyhistorybrothercadfatherdiedofbonecancermotherdiedofuterinecancerbrothersistergrandfatheronmaternalsideallwdm.medicationsathomeferroussulfate325mg32565mgtablettake1pobidglipizidexlglipizidexl10mg10mgtabosm24take1poqdlisinopril2.5mg2.5mgtablettake1poqdmetformin850mg850mgtablettake1pobidplavixclopidogrel75mg75mgtablettake1poqdpravastatinpravastatin20mg20mgtablettake1poqhstramadoltramadol50mg50mgtablettake1poq6hprnallergiesnkdaphysicalexaminationvitalsignst97.7p82bprr20sat98%generalcomfortableinbednoacutedistressheentnormocephalicatraumaticperrlanolymphadenopathyanictericscleramoistmucousmembranes.necksupplenothyromegalynojugularvenousdistensionnormalcarotidupstrokesbilaterallynocarotidbruits.pulmcleartoauscultationbilaterallycardiacregularrateandrhythmnomurmursrubsorgallops.abdomensoftmildlyoverweightnondistendednontendernopalpablepulsatilemassesnoorganomegalynoabdominalbruitnocostovertebraltendernessextremitiesrfootcoollfootwarm.spr5thtoeandl4thtoeamputation.novenousstasisdermatitisorbronzingnopedaledema.plantardorsiflexionbilaterally.sensationtolighttouchintactinbothfeet.deepulcerwithfibrinousexudateatbaseonlateralaspectofrforefootat5thtoeamputationsitenovisiblebonenoperiulcercellulitis.lfootwithwetgangreneinvolvingprimarilyplantarsurfaceandnailbedoflgreattoevisiblesinusextendingdeeperonmedialaspectoflnailbedcellulitisandedemaextendingthroughouttoe.plantarsurfaceoflfootwithsuperficialulcerof3x1cmoverlying5thtoemetatarsalheadnoexpressibledrainageorfluctuance.extensivescaleandscleroticnailsnotedonforefeetbilaterally.pulsesradialfemoralpoplitealdorsalisposttibrightdopplernondopplerleftdopplerdopplerdiagnostictestingresultsdatetimenakclco21374.310027.3datetimebuncreglu34h1.60h141hdatetimemg1.5datetimewbchctplt16.2h33.7l550hdatetimeptptinrptt15.3h1.435.0hcardiologyreportnumberylu102821reportstatuspreliminarytypevascularstudydate0800orderingprovidersalgadobrucepreliminaryvascularlaboratoryniobraravalleyhospitaladairhelendob25may20626842267age50sexf07apr2113refmdsalgadobrucetesttypeperipheralarterialtestinghistorydiabetesyeshypertensionnotobaccoyeshyperlipidemiayesreasonforstudyextremitygangrenebparmr125l119rightlegsegmentalsabnormalpvrabnormaltoepress.0.00anklebrachial0.34siteofocclusivediseaseaortoiliacfemoralpoplitealandtibialperonealsegmentsandthedigitsleftlegsegmentalsabnormalpvrabnormaltoepress.35.00anklebrachial0.81siteofocclusivediseaseaortoiliacfemoralpoplitealandtibialperonealsegmentsandthedigitssymptomsfindingsrighttheanklebrachialindexabiis.34.prioranklebrachialindexabi.69.pulsevolumerecordingspvrandsegmentallimbpressuressuggestinflowaortoiliaccommonfemoralprofundafemorisorproximalsuperficialfemoralarterydiseaseandpoplitealarterytibialvesselatrest.thetoebrachialindexis0.leftthepatientisspaleftsuperficialfemoralarteryptaandstentsincelastexam.theanklebrachialindexabiis.81.prioranklebrachialindexabi.55.pulsevolumerecordingspvrandsegmentallimbpressuressuggestmildinflowaortoiliaccommonfemoralprofundafemorisorproximalsuperficialfemoralarterydiseaseandpoplitealtibialvesseldiseaseatrest.thetoebrachialindexis.28takenfrom2ndtoe.impression1.severeperipheralarterialdiseaseintherightleg.2.diseaseislocatedintheaortoiliacfemoralpoplitealandtibialperonealsegmentsandthedigitsontherightside.3.mildperipheralarterialdiseaseintheleftleg.4.diseaseislocatedintheaortoiliacfemoralpoplitealandtibialperonealsegmentsandthedigitsontheleftside.5.therehasbeenasignificantdropintheanklebrachialindexintherightlegsincethelastexamfrom0.69to0.34.assessmentandrecommendations50yofdiabeticwithactivesmokingandperipheralvasculardiseasenowwithwetgangreneoflgreattoe.1consentedandaddedtoscheduleforlgreattoeamputationandrforefootulcerdebridement.2npopastmidnight3holdalloralhypoglycemicsstartinsulinslidingscale.4prevalonboots5bedrestowenfranklinmdnvhpgy2surgeryresidentpagerx76221'"
      ]
     },
     "execution_count": 328,
     "metadata": {},
     "output_type": "execute_result"
    }
   ],
   "source": [
    "df_record[198]"
   ]
  },
  {
   "cell_type": "markdown",
   "metadata": {},
   "source": [
    "# KETO-1YR analysis"
   ]
  },
  {
   "cell_type": "code",
   "execution_count": 59,
   "metadata": {
    "scrolled": true
   },
   "outputs": [
    {
     "data": {
      "text/html": [
       "<div>\n",
       "<style>\n",
       "    .dataframe thead tr:only-child th {\n",
       "        text-align: right;\n",
       "    }\n",
       "\n",
       "    .dataframe thead th {\n",
       "        text-align: left;\n",
       "    }\n",
       "\n",
       "    .dataframe tbody tr th {\n",
       "        vertical-align: top;\n",
       "    }\n",
       "</style>\n",
       "<table border=\"1\" class=\"dataframe\">\n",
       "  <thead>\n",
       "    <tr style=\"text-align: right;\">\n",
       "      <th></th>\n",
       "      <th>Unnamed: 0</th>\n",
       "      <th>record_file</th>\n",
       "      <th>record_text</th>\n",
       "      <th>ABDOMINAL</th>\n",
       "      <th>ADVANCED-CAD</th>\n",
       "      <th>ALCOHOL-ABUSE</th>\n",
       "      <th>ASP-FOR-MI</th>\n",
       "      <th>CREATININE</th>\n",
       "      <th>DIETSUPP-2MOS</th>\n",
       "      <th>DRUG-ABUSE</th>\n",
       "      <th>ENGLISH</th>\n",
       "      <th>HBA1C</th>\n",
       "      <th>KETO-1YR</th>\n",
       "      <th>MAJOR-DIABETES</th>\n",
       "      <th>MAKES-DECISIONS</th>\n",
       "      <th>MI-6MOS</th>\n",
       "    </tr>\n",
       "  </thead>\n",
       "  <tbody>\n",
       "    <tr>\n",
       "      <th>0</th>\n",
       "      <td>0</td>\n",
       "      <td>162.xml</td>\n",
       "      <td>Record date: 2068-02-04\\n\\nASSOCIATED ARTHRITI...</td>\n",
       "      <td>met</td>\n",
       "      <td>met</td>\n",
       "      <td>not met</td>\n",
       "      <td>met</td>\n",
       "      <td>not met</td>\n",
       "      <td>not met</td>\n",
       "      <td>not met</td>\n",
       "      <td>met</td>\n",
       "      <td>not met</td>\n",
       "      <td>not met</td>\n",
       "      <td>not met</td>\n",
       "      <td>met</td>\n",
       "      <td>not met</td>\n",
       "    </tr>\n",
       "    <tr>\n",
       "      <th>1</th>\n",
       "      <td>1</td>\n",
       "      <td>176.xml</td>\n",
       "      <td>Record date: 2085-04-22\\n\\n \\nThis patient wan...</td>\n",
       "      <td>met</td>\n",
       "      <td>not met</td>\n",
       "      <td>met</td>\n",
       "      <td>not met</td>\n",
       "      <td>not met</td>\n",
       "      <td>met</td>\n",
       "      <td>not met</td>\n",
       "      <td>met</td>\n",
       "      <td>not met</td>\n",
       "      <td>not met</td>\n",
       "      <td>not met</td>\n",
       "      <td>met</td>\n",
       "      <td>not met</td>\n",
       "    </tr>\n",
       "    <tr>\n",
       "      <th>2</th>\n",
       "      <td>2</td>\n",
       "      <td>189.xml</td>\n",
       "      <td>Record date: 2090-07-07\\n\\nWillow Gardens Care...</td>\n",
       "      <td>not met</td>\n",
       "      <td>met</td>\n",
       "      <td>not met</td>\n",
       "      <td>met</td>\n",
       "      <td>met</td>\n",
       "      <td>met</td>\n",
       "      <td>not met</td>\n",
       "      <td>met</td>\n",
       "      <td>met</td>\n",
       "      <td>not met</td>\n",
       "      <td>met</td>\n",
       "      <td>met</td>\n",
       "      <td>not met</td>\n",
       "    </tr>\n",
       "    <tr>\n",
       "      <th>3</th>\n",
       "      <td>3</td>\n",
       "      <td>214.xml</td>\n",
       "      <td>Record date: 2096-07-15\\n\\n\\n\\nResults01/31/20...</td>\n",
       "      <td>not met</td>\n",
       "      <td>met</td>\n",
       "      <td>not met</td>\n",
       "      <td>met</td>\n",
       "      <td>not met</td>\n",
       "      <td>met</td>\n",
       "      <td>not met</td>\n",
       "      <td>not met</td>\n",
       "      <td>met</td>\n",
       "      <td>not met</td>\n",
       "      <td>not met</td>\n",
       "      <td>met</td>\n",
       "      <td>met</td>\n",
       "    </tr>\n",
       "    <tr>\n",
       "      <th>4</th>\n",
       "      <td>4</td>\n",
       "      <td>200.xml</td>\n",
       "      <td>Record date: 2170-02-17\\n\\n \\n\\nReason for Vis...</td>\n",
       "      <td>met</td>\n",
       "      <td>not met</td>\n",
       "      <td>not met</td>\n",
       "      <td>met</td>\n",
       "      <td>not met</td>\n",
       "      <td>met</td>\n",
       "      <td>not met</td>\n",
       "      <td>met</td>\n",
       "      <td>not met</td>\n",
       "      <td>not met</td>\n",
       "      <td>met</td>\n",
       "      <td>met</td>\n",
       "      <td>not met</td>\n",
       "    </tr>\n",
       "  </tbody>\n",
       "</table>\n",
       "</div>"
      ],
      "text/plain": [
       "   Unnamed: 0 record_file                                        record_text  \\\n",
       "0           0     162.xml  Record date: 2068-02-04\\n\\nASSOCIATED ARTHRITI...   \n",
       "1           1     176.xml  Record date: 2085-04-22\\n\\n \\nThis patient wan...   \n",
       "2           2     189.xml  Record date: 2090-07-07\\n\\nWillow Gardens Care...   \n",
       "3           3     214.xml  Record date: 2096-07-15\\n\\n\\n\\nResults01/31/20...   \n",
       "4           4     200.xml  Record date: 2170-02-17\\n\\n \\n\\nReason for Vis...   \n",
       "\n",
       "  ABDOMINAL ADVANCED-CAD ALCOHOL-ABUSE ASP-FOR-MI CREATININE DIETSUPP-2MOS  \\\n",
       "0       met          met       not met        met    not met       not met   \n",
       "1       met      not met           met    not met    not met           met   \n",
       "2   not met          met       not met        met        met           met   \n",
       "3   not met          met       not met        met    not met           met   \n",
       "4       met      not met       not met        met    not met           met   \n",
       "\n",
       "  DRUG-ABUSE  ENGLISH    HBA1C KETO-1YR MAJOR-DIABETES MAKES-DECISIONS  \\\n",
       "0    not met      met  not met  not met        not met             met   \n",
       "1    not met      met  not met  not met        not met             met   \n",
       "2    not met      met      met  not met            met             met   \n",
       "3    not met  not met      met  not met        not met             met   \n",
       "4    not met      met  not met  not met            met             met   \n",
       "\n",
       "   MI-6MOS  \n",
       "0  not met  \n",
       "1  not met  \n",
       "2  not met  \n",
       "3      met  \n",
       "4  not met  "
      ]
     },
     "execution_count": 59,
     "metadata": {},
     "output_type": "execute_result"
    }
   ],
   "source": [
    "train_df.head()"
   ]
  },
  {
   "cell_type": "markdown",
   "metadata": {},
   "source": [
    "I will try to find the only one patient whose \"KETO-1YR\" is \"met\""
   ]
  },
  {
   "cell_type": "code",
   "execution_count": 60,
   "metadata": {},
   "outputs": [
    {
     "name": "stdout",
     "output_type": "stream",
     "text": [
      "141\n"
     ]
    }
   ],
   "source": [
    "Flag = 0\n",
    "for each in train_df['KETO-1YR']:\n",
    "    if each == 'met':\n",
    "        print(Flag)\n",
    "    Flag = Flag + 1"
   ]
  },
  {
   "cell_type": "markdown",
   "metadata": {},
   "source": [
    "You could see the patient is in the 142 line of the csv file"
   ]
  },
  {
   "cell_type": "code",
   "execution_count": 20,
   "metadata": {},
   "outputs": [
    {
     "data": {
      "text/plain": [
       "'291.xml'"
      ]
     },
     "execution_count": 20,
     "metadata": {},
     "output_type": "execute_result"
    }
   ],
   "source": [
    "train_df.loc[141,'record_file']"
   ]
  },
  {
   "cell_type": "markdown",
   "metadata": {},
   "source": [
    "This is the file \"291.xml\"."
   ]
  },
  {
   "cell_type": "code",
   "execution_count": 363,
   "metadata": {
    "collapsed": true
   },
   "outputs": [],
   "source": [
    "import re\n",
    "renal_failure = []\n",
    "creatinine = []\n",
    "diabetes = []\n",
    "HBA1C = []\n",
    "pattern1 = re.compile(r\"(?<!family history\\s)renalfailure\")\n",
    "pattern2 = re.compile(r\"(?<!family history\\s)creatinine\")\n",
    "pattern3 = re.compile(r\"(?<!family history\\s)insulindependentdiabetesmellitus\")\n",
    "Flag = 0\n",
    "Flag2 = 0\n",
    "for each in df_record:\n",
    "    match1 = pattern1.search(each)\n",
    "    match2 = pattern2.search(each)\n",
    "    match3 = pattern3.search(each) \n",
    "    if match1 and Flag not in renal_failure:\n",
    "        renal_failure.append(Flag)\n",
    "    if match2 and Flag not in creatinine:\n",
    "        creatinine.append(Flag)\n",
    "    if match3 and Flag not in diabetes:\n",
    "        diabetes.append(Flag)\n",
    "    Flag = Flag + 1\n",
    "for each in train_df['HBA1C']:\n",
    "    if each == 'met' and Flag2 not in HBA1C:\n",
    "        HBA1C.append(Flag2)\n",
    "    Flag2 = Flag2 + 1"
   ]
  },
  {
   "cell_type": "code",
   "execution_count": 364,
   "metadata": {},
   "outputs": [
    {
     "data": {
      "text/plain": [
       "2"
      ]
     },
     "execution_count": 364,
     "metadata": {},
     "output_type": "execute_result"
    }
   ],
   "source": [
    "set1 = set(renal_failure)\n",
    "set2 = set(creatinine)\n",
    "set3 = set(diabetes)\n",
    "set4 = set(HBA1C)\n",
    "len(set1 & set2 & set3 & set4)"
   ]
  },
  {
   "cell_type": "code",
   "execution_count": 365,
   "metadata": {
    "scrolled": true
   },
   "outputs": [
    {
     "data": {
      "text/plain": [
       "{36, 141}"
      ]
     },
     "execution_count": 365,
     "metadata": {},
     "output_type": "execute_result"
    }
   ],
   "source": [
    "set1 & set2 & set3 & set4"
   ]
  },
  {
   "cell_type": "code",
   "execution_count": 362,
   "metadata": {},
   "outputs": [
    {
     "data": {
      "text/plain": [
       "Unnamed: 0                                                       141\n",
       "record_file                                                  291.xml\n",
       "record_text        Record date: 2095-01-16\\n\\n                   ...\n",
       "ABDOMINAL                                                        met\n",
       "ADVANCED-CAD                                                     met\n",
       "ALCOHOL-ABUSE                                                not met\n",
       "ASP-FOR-MI                                                       met\n",
       "CREATININE                                                       met\n",
       "DIETSUPP-2MOS                                                not met\n",
       "DRUG-ABUSE                                                   not met\n",
       "ENGLISH                                                          met\n",
       "HBA1C                                                            met\n",
       "KETO-1YR                                                         met\n",
       "MAJOR-DIABETES                                                   met\n",
       "MAKES-DECISIONS                                                  met\n",
       "MI-6MOS                                                      not met\n",
       "Name: 141, dtype: object"
      ]
     },
     "execution_count": 362,
     "metadata": {},
     "output_type": "execute_result"
    }
   ],
   "source": [
    "train_df.iloc[141]"
   ]
  },
  {
   "cell_type": "markdown",
   "metadata": {},
   "source": [
    "# HBA1C analysis"
   ]
  },
  {
   "cell_type": "code",
   "execution_count": 9,
   "metadata": {},
   "outputs": [
    {
     "data": {
      "text/html": [
       "<div>\n",
       "<style>\n",
       "    .dataframe thead tr:only-child th {\n",
       "        text-align: right;\n",
       "    }\n",
       "\n",
       "    .dataframe thead th {\n",
       "        text-align: left;\n",
       "    }\n",
       "\n",
       "    .dataframe tbody tr th {\n",
       "        vertical-align: top;\n",
       "    }\n",
       "</style>\n",
       "<table border=\"1\" class=\"dataframe\">\n",
       "  <thead>\n",
       "    <tr style=\"text-align: right;\">\n",
       "      <th></th>\n",
       "      <th>Unnamed: 0</th>\n",
       "      <th>record_file</th>\n",
       "      <th>record_text</th>\n",
       "      <th>ABDOMINAL</th>\n",
       "      <th>ADVANCED-CAD</th>\n",
       "      <th>ALCOHOL-ABUSE</th>\n",
       "      <th>ASP-FOR-MI</th>\n",
       "      <th>CREATININE</th>\n",
       "      <th>DIETSUPP-2MOS</th>\n",
       "      <th>DRUG-ABUSE</th>\n",
       "      <th>ENGLISH</th>\n",
       "      <th>HBA1C</th>\n",
       "      <th>KETO-1YR</th>\n",
       "      <th>MAJOR-DIABETES</th>\n",
       "      <th>MAKES-DECISIONS</th>\n",
       "      <th>MI-6MOS</th>\n",
       "    </tr>\n",
       "  </thead>\n",
       "  <tbody>\n",
       "    <tr>\n",
       "      <th>0</th>\n",
       "      <td>0</td>\n",
       "      <td>162.xml</td>\n",
       "      <td>Record date: 2068-02-04\\n\\nASSOCIATED ARTHRITI...</td>\n",
       "      <td>met</td>\n",
       "      <td>met</td>\n",
       "      <td>not met</td>\n",
       "      <td>met</td>\n",
       "      <td>not met</td>\n",
       "      <td>not met</td>\n",
       "      <td>not met</td>\n",
       "      <td>met</td>\n",
       "      <td>not met</td>\n",
       "      <td>not met</td>\n",
       "      <td>not met</td>\n",
       "      <td>met</td>\n",
       "      <td>not met</td>\n",
       "    </tr>\n",
       "    <tr>\n",
       "      <th>1</th>\n",
       "      <td>1</td>\n",
       "      <td>176.xml</td>\n",
       "      <td>Record date: 2085-04-22\\n\\n \\nThis patient wan...</td>\n",
       "      <td>met</td>\n",
       "      <td>not met</td>\n",
       "      <td>met</td>\n",
       "      <td>not met</td>\n",
       "      <td>not met</td>\n",
       "      <td>met</td>\n",
       "      <td>not met</td>\n",
       "      <td>met</td>\n",
       "      <td>not met</td>\n",
       "      <td>not met</td>\n",
       "      <td>not met</td>\n",
       "      <td>met</td>\n",
       "      <td>not met</td>\n",
       "    </tr>\n",
       "    <tr>\n",
       "      <th>2</th>\n",
       "      <td>2</td>\n",
       "      <td>189.xml</td>\n",
       "      <td>Record date: 2090-07-07\\n\\nWillow Gardens Care...</td>\n",
       "      <td>not met</td>\n",
       "      <td>met</td>\n",
       "      <td>not met</td>\n",
       "      <td>met</td>\n",
       "      <td>met</td>\n",
       "      <td>met</td>\n",
       "      <td>not met</td>\n",
       "      <td>met</td>\n",
       "      <td>met</td>\n",
       "      <td>not met</td>\n",
       "      <td>met</td>\n",
       "      <td>met</td>\n",
       "      <td>not met</td>\n",
       "    </tr>\n",
       "    <tr>\n",
       "      <th>3</th>\n",
       "      <td>3</td>\n",
       "      <td>214.xml</td>\n",
       "      <td>Record date: 2096-07-15\\n\\n\\n\\nResults01/31/20...</td>\n",
       "      <td>not met</td>\n",
       "      <td>met</td>\n",
       "      <td>not met</td>\n",
       "      <td>met</td>\n",
       "      <td>not met</td>\n",
       "      <td>met</td>\n",
       "      <td>not met</td>\n",
       "      <td>not met</td>\n",
       "      <td>met</td>\n",
       "      <td>not met</td>\n",
       "      <td>not met</td>\n",
       "      <td>met</td>\n",
       "      <td>met</td>\n",
       "    </tr>\n",
       "    <tr>\n",
       "      <th>4</th>\n",
       "      <td>4</td>\n",
       "      <td>200.xml</td>\n",
       "      <td>Record date: 2170-02-17\\n\\n \\n\\nReason for Vis...</td>\n",
       "      <td>met</td>\n",
       "      <td>not met</td>\n",
       "      <td>not met</td>\n",
       "      <td>met</td>\n",
       "      <td>not met</td>\n",
       "      <td>met</td>\n",
       "      <td>not met</td>\n",
       "      <td>met</td>\n",
       "      <td>not met</td>\n",
       "      <td>not met</td>\n",
       "      <td>met</td>\n",
       "      <td>met</td>\n",
       "      <td>not met</td>\n",
       "    </tr>\n",
       "  </tbody>\n",
       "</table>\n",
       "</div>"
      ],
      "text/plain": [
       "   Unnamed: 0 record_file                                        record_text  \\\n",
       "0           0     162.xml  Record date: 2068-02-04\\n\\nASSOCIATED ARTHRITI...   \n",
       "1           1     176.xml  Record date: 2085-04-22\\n\\n \\nThis patient wan...   \n",
       "2           2     189.xml  Record date: 2090-07-07\\n\\nWillow Gardens Care...   \n",
       "3           3     214.xml  Record date: 2096-07-15\\n\\n\\n\\nResults01/31/20...   \n",
       "4           4     200.xml  Record date: 2170-02-17\\n\\n \\n\\nReason for Vis...   \n",
       "\n",
       "  ABDOMINAL ADVANCED-CAD ALCOHOL-ABUSE ASP-FOR-MI CREATININE DIETSUPP-2MOS  \\\n",
       "0       met          met       not met        met    not met       not met   \n",
       "1       met      not met           met    not met    not met           met   \n",
       "2   not met          met       not met        met        met           met   \n",
       "3   not met          met       not met        met    not met           met   \n",
       "4       met      not met       not met        met    not met           met   \n",
       "\n",
       "  DRUG-ABUSE  ENGLISH    HBA1C KETO-1YR MAJOR-DIABETES MAKES-DECISIONS  \\\n",
       "0    not met      met  not met  not met        not met             met   \n",
       "1    not met      met  not met  not met        not met             met   \n",
       "2    not met      met      met  not met            met             met   \n",
       "3    not met  not met      met  not met        not met             met   \n",
       "4    not met      met  not met  not met            met             met   \n",
       "\n",
       "   MI-6MOS  \n",
       "0  not met  \n",
       "1  not met  \n",
       "2  not met  \n",
       "3      met  \n",
       "4  not met  "
      ]
     },
     "execution_count": 9,
     "metadata": {},
     "output_type": "execute_result"
    }
   ],
   "source": [
    "train_df.head()"
   ]
  },
  {
   "cell_type": "code",
   "execution_count": 10,
   "metadata": {
    "collapsed": true
   },
   "outputs": [],
   "source": [
    "Flag = 0\n",
    "HBA1C = []\n",
    "for each in train_df['HBA1C']:\n",
    "    if each == 'met' and Flag not in HBA1C:\n",
    "        HBA1C.append(Flag)\n",
    "    Flag = Flag + 1"
   ]
  },
  {
   "cell_type": "code",
   "execution_count": 11,
   "metadata": {},
   "outputs": [
    {
     "data": {
      "text/plain": [
       "67"
      ]
     },
     "execution_count": 11,
     "metadata": {},
     "output_type": "execute_result"
    }
   ],
   "source": [
    "len(HBA1C)"
   ]
  },
  {
   "cell_type": "code",
   "execution_count": 12,
   "metadata": {
    "scrolled": true
   },
   "outputs": [
    {
     "data": {
      "text/plain": [
       "[2,\n",
       " 3,\n",
       " 10,\n",
       " 14,\n",
       " 21,\n",
       " 22,\n",
       " 26,\n",
       " 28,\n",
       " 30,\n",
       " 33,\n",
       " 34,\n",
       " 35,\n",
       " 36,\n",
       " 37,\n",
       " 39,\n",
       " 40,\n",
       " 41,\n",
       " 43,\n",
       " 50,\n",
       " 54,\n",
       " 55,\n",
       " 60,\n",
       " 67,\n",
       " 75,\n",
       " 76,\n",
       " 77,\n",
       " 81,\n",
       " 82,\n",
       " 86,\n",
       " 90,\n",
       " 91,\n",
       " 97,\n",
       " 98,\n",
       " 102,\n",
       " 104,\n",
       " 107,\n",
       " 108,\n",
       " 115,\n",
       " 116,\n",
       " 118,\n",
       " 122,\n",
       " 124,\n",
       " 125,\n",
       " 128,\n",
       " 135,\n",
       " 139,\n",
       " 141,\n",
       " 143,\n",
       " 147,\n",
       " 150,\n",
       " 152,\n",
       " 153,\n",
       " 154,\n",
       " 156,\n",
       " 158,\n",
       " 160,\n",
       " 168,\n",
       " 171,\n",
       " 173,\n",
       " 175,\n",
       " 177,\n",
       " 180,\n",
       " 192,\n",
       " 197,\n",
       " 198,\n",
       " 200,\n",
       " 201]"
      ]
     },
     "execution_count": 12,
     "metadata": {},
     "output_type": "execute_result"
    }
   ],
   "source": [
    "HBA1C"
   ]
  },
  {
   "cell_type": "code",
   "execution_count": 335,
   "metadata": {
    "collapsed": true,
    "scrolled": false
   },
   "outputs": [],
   "source": [
    "import re\n",
    "HBA1C_MET = []\n",
    "flag = 0\n",
    "flag_group = []\n",
    "for num in range(0,20):\n",
    "    pattern = re.compile(r\"(?<=a1c[a-z0-9\\s]{\"+str(num)+\"})\\d+\\.\\d{0,2}\")\n",
    "    pattern2 = re.compile(r\"(?<=a1c[a-z0-9\\s]{\"+str(num)+\"})\\d\\.?\\d{0,2}(?=%)\")\n",
    "    for each in df_record:\n",
    "        match = pattern.findall(each)\n",
    "        match2 = pattern2.findall(each)\n",
    "        if match:\n",
    "            #print(flag)\n",
    "            #print(match)\n",
    "            for each in match:\n",
    "                float_each = float(each)\n",
    "                if float_each >= 6.5 and float_each <= 9.5:\n",
    "                    flag_group.append(flag)\n",
    "                    HBA1C_MET.append(match)\n",
    "        if match2:\n",
    "            for each in match2:\n",
    "                float_each = float(each)\n",
    "                if float_each >= 6.5 and float_each <= 9.5:\n",
    "                    flag_group.append(flag)\n",
    "                    HBA1C_MET.append(match2)            \n",
    "        flag =flag + 1\n",
    "    flag = 0"
   ]
  },
  {
   "cell_type": "code",
   "execution_count": 336,
   "metadata": {},
   "outputs": [
    {
     "data": {
      "text/plain": [
       "68"
      ]
     },
     "execution_count": 336,
     "metadata": {},
     "output_type": "execute_result"
    }
   ],
   "source": [
    "flag_group_set = set(flag_group)\n",
    "len(flag_group_set)"
   ]
  },
  {
   "cell_type": "code",
   "execution_count": 337,
   "metadata": {
    "scrolled": false
   },
   "outputs": [
    {
     "data": {
      "text/plain": [
       "{2,\n",
       " 3,\n",
       " 6,\n",
       " 10,\n",
       " 14,\n",
       " 21,\n",
       " 22,\n",
       " 26,\n",
       " 28,\n",
       " 30,\n",
       " 33,\n",
       " 34,\n",
       " 35,\n",
       " 36,\n",
       " 37,\n",
       " 39,\n",
       " 40,\n",
       " 41,\n",
       " 43,\n",
       " 50,\n",
       " 54,\n",
       " 55,\n",
       " 60,\n",
       " 63,\n",
       " 67,\n",
       " 75,\n",
       " 76,\n",
       " 77,\n",
       " 81,\n",
       " 82,\n",
       " 86,\n",
       " 90,\n",
       " 91,\n",
       " 96,\n",
       " 97,\n",
       " 98,\n",
       " 102,\n",
       " 104,\n",
       " 107,\n",
       " 108,\n",
       " 115,\n",
       " 118,\n",
       " 122,\n",
       " 124,\n",
       " 125,\n",
       " 128,\n",
       " 135,\n",
       " 139,\n",
       " 141,\n",
       " 143,\n",
       " 147,\n",
       " 150,\n",
       " 153,\n",
       " 154,\n",
       " 156,\n",
       " 158,\n",
       " 160,\n",
       " 168,\n",
       " 169,\n",
       " 171,\n",
       " 173,\n",
       " 177,\n",
       " 180,\n",
       " 192,\n",
       " 197,\n",
       " 198,\n",
       " 200,\n",
       " 201}"
      ]
     },
     "execution_count": 337,
     "metadata": {},
     "output_type": "execute_result"
    }
   ],
   "source": [
    "flag_group_set"
   ]
  },
  {
   "cell_type": "code",
   "execution_count": 339,
   "metadata": {
    "scrolled": true
   },
   "outputs": [
    {
     "data": {
      "text/plain": [
       "'recorddatethesourceofthisnoteistherchemergencydept.informationsystem.allupdatesshouldoriginateinedis.redbudcommunityhospitalemergencydepartmentrecordobservationunitedisnotestatussignedpatientjacksyasseenmrn8841350dobsexmregistrationdatetime20900amedobsnoteadmissionnotetimepatientseen418chiefcomplaintdeltamshypertensionhpi82y.omwhxhtnhyperthyroidismbaselinemilddementiapwchangeinmentalstatus.perpt.sonheunabletorecognizehiswifeandwantedtogetoutofthehouseheagitatedbutnoncombativeepisodelastedforabout1hr.deniesanyfcnohanocppalpitationsnospeechdifficultynoneuromotordeficitnonumbnesstinglingofextremities.pfshxrospastmedicalhistoryseehpi.familyhistorynoncontributory.socialhistorynonsmokerquit10y.oallergynkarosconstitutionalmajorweightgain.fatigue.fever.chills.headeyesheadache.visionchanges.entnecknosignficiantfindings.chestrespiratoryshortnessofbreath.wheezing.dyspneaonexertion.cough.cardiovascularlegswelling.giabdominalvomiting.diarrhea.guflankcvapelvicnosignficiantfindings.musculoskeletalextrbacknosignficiantfindings.skinnosignficiantfindings.neuroparesthesias.weakness.psychdementiathatbegan1yearago.hemelymphimmnosignficiantfindings.endohyperthyroidism.rosandpfshxasnotedaboveandintheedrecordforthisencounter.allothersystemsotherwisenegative.peconstitutionalpatientisawake.patientisalert.patientisorientedx3.patientisnotlethargic.headeyesnormalcephalicatramatic.pupilsareequalandreactivetolight.extraocularmusclesareintact.scleraareanicteric.entairwayintact.mucusmembranesaremoist.tongueismidline.neckneckissupple.fullrangeofmotionispresent.neckisnontender.carotidbruitsareabsent.chestrespiratorythelungsarecleartoauscultationbilaterally.ralesarenotpresent.cardiovascularnormalheartsoundsarepresent.heartisregularrateandrhythm.nomurmurispresent.giabdomenabdomenisnontenderandnondistended.abdomenissoft.bowelsoundsarepresent.genitourinarycostovertebralangletendernessispresent.musculoskeletalpatienthasnormalrangeofmotion.patienthasnormalmusclebulkandtone.thereisnotremor.thereisnomusclerigidity.skinskinisintact.thereisnorash.therearenolesions.neurologicnofocaldeficit.patientisalertandorientedx3.cranialnervetestingisintact.motorstrengthtestingisintact.psychiatricpatientisnondelusional.patientisnotanxious.hemelymphimmunendocrinepatientdoesnothavelymphadenopathy.testingresultsekgekgsb50sxrayinterpretationheadctneg.cxrnegmedicaldecisionmakingplan82y.omwhxinhpipwmentalstatuschangeandelevatedbp.planmonitorbptelemonitoringmonitormentalstatus.thisnotehasbeenelectronicallysignedbyyvonnewelchnp65835amclinicalstaffdocumentingintheednoteincludeattendingnursepractitionerssyvonnewelchnpattendingnoteattendingmdnotesihaveexaminedthepatientanddiscussedwiththenursepractitionerthepatientscareandagreewiththeplan.pthadepisodeofdeleriousspeakingfullsentencesnonfocalotherwiseandabletotakeawalktocalmdownhashadsimilarbeforeandthisselfresolved.inedcharmingandwithoutsx.howevernotedbpelevated.examnormal.planobsonreducebpandhavepatientfumondayforrechecktoensureitisnotgettingupagain.thisnotehasbeenelectronicallysignedbyxavierubermd101132amclinicalstaffdocumentingintheednoteincludeattendingnursepractitionerssxavierubermdrecorddateeducarefargobinternadmissionnotepatientjacksyasseenmr8841350admitdatelocationwest208attendingdodgepcpdr.giovannigabrielkekelakeystoneheightssourcepatientchartedpassoffcodestatusfullpresumedcontactsonursulacchypotensionunresponsivenesscoughhpimr.jacksisanindonesian83mwhtndementiaoaandseverecentralcanalstenosisrecentrchadmissionforassociatedlueweaknesssignificantsmokinghistoryrulnodulesince821742andhobronchiectasiswhopresentsfromhisnursinghomewreportedepisodeofhypotensionandunresponsivenessonaroundlunchtime.pernotestheptfoundtobeunresponsivebrieflyafterlunchbpcheckedandfoundtobeinthe808217ssystolicemsactivatedandanivplaced.hequicklybecameresponsivewithoutinterventionandbpcameuptothe80s90s.pernotesnoreportedcpabdominalpainhalhfocalneurologicalsymptomssobpalpitations.ofnotetheptrecentlyhospitalizedatrch8211duringwhichtimehehadlabilebp8217sincludinghtnaswellasquestionoforthostasisanddischargedonhydralazinehctzlisinoprilandlabetalolafterhavingtakenonlyatenololandterazosinonadmission.atrehabon3daysptahismedswerechangedtoatenololterazosinhctzandlisinopril.intheedthept8217svitalsweret96.4hr63bprr2095%onra.labssigforna129upto131afternscr1.58baseline1.0to1.1butrecently1.4to1.6wbc9.2upto15.683%pmnduringtimeintheedhctfrom38.3to32.6mcv85inedafterfluidsguaiacnegativeheadctnegativecxrwslightlymoreprominentbibasilarlgtropacities.healsococoughwhileintheedwnoothersymptomswreportofsomerhonchorousbreathsounds.twosetsofbloodculturesweredrawnhegivenivfnsat120cchrandhestartedonvancomycinandcefepimeforpresumedpna.onthefloortheptcomplainsofcoughmildlyproductivebutnofeverschillssobdoecphemoptysisoranyothersxbutissomewhatofapoorhistorian.ofnotepthadrecentchestctiontoevaluateknownrulnodulewhichshowedlikelyaspirationpnawmultifocaldependentconsolidation.ptinitiallygiven2daysoflevofloxacinbutperdischargesummaryptnotclinicallybehavingasifhehadpnasoabxwerestopped.pmhpshhtnrecentmedadjustmentsasaboveosteoarthritiswseverecentralcanalstenosisrecentadmissionwlueweaknessataxiafollowedbynsgneurocurrentlyworkingwptinneckcollarcurrentlyrulnodulefirstseen2142recentctionshowedleftthyroidnodule1.7cmnotedonctunclearhoanyworkupbphbronchiectasisinlingulahoremotethoracotomyaschildchroniccoughchronicmildthrombocytopeniamedsathome1.acetaminophentylenol325650mgpoq4hprn2.acetylsalicylicacidaspirin81mgpoqd3.atenolol50mgpoqd4.cyanocobalaminvitaminb121000mcgpoqd5.docusatesodiumcolace100mgpobid6.hydrochlorothiazide25mgpoqd7.ipratropiumnebulizeratroventnebulizer0.5mgnebq2hprn8.lisinopril40mgpoqd9.memantinenamenda10mgpobid10.methimazole5mgpoqd11.miconazolenitrate2%powder1applicationtoptidprn12.multivitamins1tabpoqd13.omeprazoleprilosec20mgpobid14.polyethyleneglycolmiralax17gmpoqdprn15.simvastatin80mgpoqd16.terazosinhcl10mgpoqhs17.trazodone25mgpoqhsprnanxietyinsomniaagitationallnkdashcurrentlylivingatlewhealthcareclinicnormallyliveswwifeinapartment.retiredplasterer.significantsmokinghistorybutnonecurrently.noetohorillicits.fhncrosasinhpipoorhistorian.additionallydeniesfeverschillsdiaphoresisdenieshavisionchangesweaknessdeniescpchestpressurepalpitationsorthopneapndlhdeniessobwheezedoedeniesnvdconstipationmelenahematocheziadeniesdysuriafrequencyhematuriadeniesrecenttravelexamt98.6hr70bprr18o295%ragennadalertconversantpleasantwearingneckcollarheentncatperrlnonicteric.eomi.mmdrywoexudates.necksupplentfullrom2carotidswobruitsnolad.jvp7cm.pulmdecreasedbsbilaterallyfaintbibasilarcracklesnowheezescorrrrnormals1s2nomrgappreciatedabdsoftnondistendednontenderbsnohsmguaiacneginedextrnoleedema2dpsbilaterallyneuroaox28220march21508221knewwewerein8220hospital8221cniithroughxiiintactmotorandsensorynonfocalluestrengthwnldtrs2andsymmetricnomeningismusorphotophobialabsrads08feb21501538plasmasodium129l135145mmollplasmapotassium3.73.44.8mmollplasmachloride86l100108mmollplasmacarbondioxide35.9h23.031.9mmollcalcium8.88.510.5mgdlphosphorus3.72.64.5mgdlmagnesium2.1h1.42.0meqlplasmaureanitrogen51h825mgdlplasmacreatinine1.58h0.601.50mgdlegfr45mlmin1.73m2plasmaglucose125h70110mgdlcardiacenzymesnegativex1wbc9.24.511.0thcmmhct38.3l41.053.0%hgb13.713.517.5gmdlrbc4.42l4.505.90milcmmplt184150400thcummmcv8780100flmch30.926.034.0pgrbcmchc35.731.037.0gdlrdw12.511.514.5%differentialrequestreceiveddiffmethodautopoly78h4070%lymphs19l2244%monos2l411%eos108%basos003%absoluteneuts7.201.87.7thcmmabsolutelymphs1.731.04.8thcmmabsolutemonos0.19l0.20.4thcmmabsoluteeos0.07l0.10.3thcmmabsolutebasos0.020.00.3thcmmanisononenonehypononenonemacrocytesnonenonemicrocytesnonenonebloodculturesnegativex2cxrimpressionslightlymoreprominentopacitiesattheleftbasectbrainimpressionnoacuteinfarctacuteparenchymalabnormalityextraaxialfluidcollectionmidlineshiftmasseffectorhemorrhageisseen.nonspecificwhitematterfocilikelyrepresentingchronicsmallvesselischemicchangesandmildgeneralizedvolumeloss.unchangedanteriornasalseptaldefectanteriorsubluxationofthelefttmjandmarkeddegenerativechangesofthec1c2articulation.chestctiimpressionmultifocaldependentconsolidationsuggestingaspirationpneumonia.newsmallleftpleuraleffusion.enlargedprevascularlymphnodeandincreaseinsizeofprevascularlymphnodes.centralleftperibronchialthickeningmostlikelyrepresentsecretionsandorreactivelymphoidtissues.followupchestctinsixweeksforresolution.newtracepericardialeffusion.thyroidnodule.ekgnsrat75bpmq8217siniiiandavfleftaxisimpressionplan83mwhtndementiaoaandcentralcanalstenosissmokinghistorystablerulnodulehobronchiectasisrecentimagingsuggestiveofaspirationpnaandrecentbpmedchangeswhopresentswhypotensionandbriefunresponsivenessatrehabpernote.herewwbcelevationcoughmildlyproductivenofeverschillsmyalgiasorconcernforinfluenzabutconcernforpnaespeciallyaspirationpnagivenpriorctfindingscxrwincreasedlopacity.willneedtoexonerateurineandbloodaswellnomeningismusonexam.intermsofthehypotensiveepisodelikelyinsettingofmildhypovolemiaplusseveralnewbpmedsfromrecentdischargeplusfurthertitrationatrehabinprecedingfewdays.mildlydryonexamwlikelyhypovolemichyponabutwillfollow.hctdropsincearrivalwillrecheckpossiblydilutionalguaiacnegative.infectionpnaobtainsputumsamplevancoandcefepimegivencoughandwbcelevpresumedhappossiblyaspirationobtainuasincenoneobtainedinedfubloodctxx2hypotensiononarrivalinfectiousworkuptreatmentasabovewillonlygivelabetalolandhydralazinefornowholdingaceihctzgivenmildrenalfailureabovepriorbaselineaddbackterazosinasnecessarygentleivfovernightrechecka.m.lyteslikelymildhypovolemichyponatremiaandorthostaticsaftervolumechallengeanemiaguaiacnegativeinedwillguaiacallstoolstypeandcrossfurpthctconsiderironstudiesreticetc.renalfailureatsamecraslastweek8217sadmissionbutupfromhisbaselinebuncrratioappearscwprerenalpicturewillcheckurinelytesassessresponsetoivffenregularnosaltaddeddietwaspirationprecautionsgentleivfasabovessconsultppxotherheparinscppibowelregimenfullcodefornowreassesswsontomorrowhowardg.xiongmdpgy1pager17730recorddatekeystoneheightshealthcenterredbudcommunityhospitalmajorproblemshypertensionbponarrivalbylpnllsthoughaccuracyofmeasurementquestionedbylpn.bpbymex210and15minlaterduringvisitlls.contlabetalol200mg2tidandlisinopril20mgdailyaswellasfurosemide20mgdaily.nohaschestpaindyspneapndorthopnia.nochangeinbleedema1pitting.noacutedistressvitalsignsasnotednojvd.coursebreathsoundslbasethoughnosignsofconsilidation.nlpmirrrnls1ands2.sematbaseworadiation.norubsgallopsclicks.abdsoftntbsnomassesorhsm.1pittingbleedematodistaltibiaebilaterally.impbordelinebpthoughtechnicallyatgoallessthanifnotoptimallessthan.followwoanychangesfornow.osteoarthritisco2wksofblepainlbp.symptomsimprovedwhenbendingforward.nospinaltendernessorsitenderness.blestrengthdtrs2.slrbilaterally.toesdowngoing.nlgait.impsymptomsandexammostcwlumbarspinalstenosisfromknowndjdalsohasknowncervicaldjdspinalstenosis.wereviewedrelativelybenignnatureofthisdxhowevernotmuchtoofferotherthanptandifsymptomsseverenoughsurgey.preferstofollowconservativelyadvisedusinghiswalkerandcanrefertopodiatryforreverseorthodicstotrytohelpaleviatesymptoms.acuterenalfailurehistoryofspinalstenosisneckctatrchshowedstable10mmthickeningposteriortotheodontoidprocessresultinginseverecanalstenosiswspinalcordcompressionhoweverptasymptomaticstable.hasbeenseenbyneurosurgerywadvisetocontfollowingconservativelyandusecervicalcollarwhenambulatingduetoriskofinjuryifheshouldfall.reviewedfindingsandpocwpt.accompaniedbywifeandsonursula.allareinagreeementhere.edemanorealchangein1bleedemaonfurosemide20mgdaily.checkingbmptodayandwillincreasefurosemideto40mgdailyfuin1mo.otherproblemshealthmaintenancehascpeapptwme.advisedtocomefastingtothisappt.changestomedicationsthisvisitfurosemide40mg1dailyqty30refills5physicalexambloodpressureleftsittinglargecuff.pulse80weight198pteducationgivenonmedicationuseandorsideeffectsmedlistreviewdiagnosticimpressiontestinterpretationtreatmentplanreasonstocallproviderprovidercoverageinformationhealthmaintenanceissueswrittenmedlistinstructionsgiven.giovannigabrielmddocumentstatusfinalrecorddateteam4admissionnoteadmissiondatetimejune262152at730pmpatientnameyasseenjacksmrn8841350attendingurielmaysmdcodestatusdnrdniperdiscussionwithsonhistorianmedicalrecordpatientssonursulajackschiefcomplaintagitationhpimr.jacksisanindonesianspeaking85mwithahistoryofdementialungnodulechfwhopresentswithprogressivelyworseningagitationathome.aspatientiscurrentlyverysomnolentthishistoryisbasedonphoneinterviewwithursulajackswhoisthehcpandisveryinvolvedwithhisfatherscare.thepatientdiagnosedwithdementiabyhispcpabout3yearsagoandhasbeenrelativelystablelivingathomeon2ndfloorinkeystoneheightswithhiswifewhohasbeenhisprimarycaretakertheirtwosonsareveryinvolvedaswell.overthelast6monthstheyhavenoticedincreasingconfusionagitationandlabileemotions.theynotedhehasbeenconfusedaboutlocationtimerecallsdistantpastbutnotrecentpastandhasoccasionallynotbeenabletoidentifyhiswife.hehasbecomeemotionallylabileandsometimesagitated.hissonnotesthatherecentlyhadtophysicallyforcehimtositdownandtakehismedications.hiswifehashadtostayupatnighttowatchthepatienttomakesurehedidnotwander.theyareparticularlyworriedabouthisabilitytotaketheflightofstairstotheirhomesinceittakeshimabout15mintogetupandappearsunsteady.about1wkagowhilehiswifeoutoftheirhomehewanderedoutandlockedhimselfoutwhenshereturnedheangrilyaccusedheroflockinghimout.theirmotherhashadincreasingdifficultycaringforhimandhascalledthe2sonsforhelpdailyforthepastweek.theycalledhispcpabouttheseacceleratingchangesandhestartedonlorazepam0.51mgq4hprnwhichbroughtmildimprovement.outofconcernforhisfathersandmotherssafetytheybroughthimtotheedforevaluationandplacementwhichtheirpcphasalreadybeguntodiscusswiththem.theyhavenotnoticedfeverchillsnauseavomitingdiarrheaconstipationonaggressiveregimencomplaintsofpainvisionchanges.theyhavenoticedrecenturinaryincontinenceinthelastfewdays.intheedvsweret98.2p71bprr18sao293%ra.examnotableonlyforralesbilaterallyandmildmoderateagitation.cxrnormal.cbcatbaseline.uapending.ctbraincouldnotbeperformedduetoagitation.theyspoketohispcpwhofeltthisallduetoprogressionofhisdementia.hegivenativan2mgivtotalandhaldol5mgivtotal.alsogotlabetalolpo200mgpox1.pastmedicalhistorydiabetesmellitusadultonsetdietcontrolled.hyperlipidemiathyroidnodulestableforyearsonmethimazoleanemiabenignessentialhypertensioncongestiveheartfailuredementialungnoduleincreaseinsizeoflungnodulewhenctrepeatedinfebsuspiciousforbacsonursulaspoketodr.danielpersonsreportandtheydiscussedobservingandnotbeingaggressivewithsurgeryetcaseventhoughitcouldbecanceraninvasiveoperationconsideringhismultipleotherproblemscouldbemuchworseforhimthansimpleobservation.theyhaveanapptwithdr.danielinseptember.fallin2150withdishmedicationsreviewedwithpatientssonoverphone1.acetaminophentylenol325650mgpoq4hprn2.aspirinentericcoatedentericcoatedaspirin81mgpoqd3.cyanocobalamin1000mcgpoqd4.docusatesodium100mgpobid5.furosemide60mgpoqd6.kclslowreleasetabkdur10meqpoqd7.labetalolhcl200mgpobid8.lisinopril40mgpoqd9.lorazepam0.51mgpoq4h10.memantine10mgpobid11.methimazole5mgpoqd12.multivitamins1tabpoqd13.omeprazole20mgpoqd14.polyethyleneglycol17gmpoqdprnconstipation15.sennosidessennatablets2tabpobid16.simvastatin80mgpoqdallergiesamoxicillinclav.acidreactiondiarrheafamilyhistoryfatherhaddementiainearly70s.motherhadbreastcancer.socialhistoryliveswithwifeinkh.sonsareveryinvolved.cangetaroundbutsitsathomeanddoesnotdomuchitisgettingharderandharderforhimtobeathomehiswifeishavingahardertimecaringforhim.priorsmokerremote20yago.noetoh.reviewofsystemsotherwisenegativex10systems.physicalexaminationvitalsignst96.5fhr70bprr16o2sat93%onrageneralappearanceelderlysomnolentbutarousableandintermittentlygiveshisname.heentncatperrlaopclearwithslightlydrymucousmembranesbutwithmouthopen.skinnorashesnopetechia.largescaronbackwhichsonstatesisfromunknownchildhoodsurgerynecksuppleunabletoassessjvdlymphaticsnopalpablecervicallanchestctabheartrrrnormals1s2tonesnomgrabdomensoftnontendernondistendednormalbowelsounds.extremitieswarmnocceneurosomnolentarousablemovingallextremities.diagnosticstudiesna142k3.3lcl101co232.4hbun14cre1.16egfrgt601glu118hanion9phos2.2lmg1.6tbili0.4dbili0.1tp6.9alb4.0globamy66lips26altsgpt17astsgot19alkp99tbili0.4dbilintbnp6881ldldirpendb121036folategt20.0htsh2.781hgba1cpendmeanglupendwbc7.6rbc4.04lhgb11.7lhct35.1lmcv87mch29.0mchc33.3plt130lrdwmethodauto%neut57%lymph36%mono4%eos2%basopt12.9ptinr1.1uacoloryellowuaappclearuaglucnegativeuabilinegativeuaketnegativeurspgr1.0101uabldnegativeuaphuaprotnegativeuaurobinegativeuanitnegativeuawbcnegativeigg867iga306igm174speppendradiology1640rchradiologystudynamectbrwocaccession56286274statusscheduled1522rchradiologystudynamechest2viewsaccession85765721statusfinalexamnumber85765721reportstatusfinaltypechest2viewsimpressionnoevidenceofpneumoniaorpulmonaryedema.ekgrate70.sinuswithpacnormalaxisleftaxisqtc488.impressionplaninsummarymr.jacksisan85yoindonesianspeakingmalewithahistoryofdementialungnodulechfwhopresentswithprogressivelyworseningagitationathome.hisfamilyareunabletocontinuecaringforhim.dementiaagitationdifferentialincludeprogressionofhisdementiaaswellasnphgivenmentalstatuschangegaitabnormalityandnewurinaryincontinence.currentlysedatedfromhaldolandativangivenintheed.b12folatearewnl.metabolicpanelshowssomemildabnormalitiesbutunlikelytobecauseofmentalstatuschangesandthereisnoevidenceofaninfectiousprocessuaandcxrnegativenoleukocytosiscurrently.ctbrainpendinghaldol2mgpobidprnholdforsedationconsidergeriatricpsychiatryconsultptconsultwhenmoreawakecontinuememantineholdinglorazepamfornowhtnreplacinglabetalolwithmetoprolol50mgtidandwilltitrate.continuelisinopril.mayneedtogiveivmedicationswhilesedatedifbpcontinuestorise.continueasa.chfcontinuelasix.hyperlipidemiacontinuesimvastatinconstipationcontiuehomeregimendocusatesennamiralaxprngerdcontinueomeprazoleb12dificiencycontinueb12leveliswnl.lungnodulenotedtobeincreasingonfucxr.pcpandfamilyhaveelectedtonotpursuefurthersurgicalworkup.thyroidnodulecontinuemethimazoletshiswnl.paincontinuetylenolprnfenlowsaltlowcholesteroldiet.continuemvikclprophylaxisgicontinueomeprazoledvtfragminbowelhomeregimendispositionpendingplacementcodestatusdnrdniperdiscussionwithsongt70minspentonptmgmntinclhpordersnoteswithgt50%timetalkingtopatientrnandhissonursulajacksaboutplanandoptions.urielmaysmdpgr23190team4internalmedicine'"
      ]
     },
     "execution_count": 339,
     "metadata": {},
     "output_type": "execute_result"
    }
   ],
   "source": [
    "df_record[63]"
   ]
  },
  {
   "cell_type": "code",
   "execution_count": 338,
   "metadata": {
    "scrolled": true
   },
   "outputs": [
    {
     "data": {
      "text/plain": [
       "Unnamed: 0                                                        63\n",
       "record_file                                                  329.xml\n",
       "record_text        Record date: 2149-06-08\\n\\n**The source of thi...\n",
       "ABDOMINAL                                                    not met\n",
       "ADVANCED-CAD                                                 not met\n",
       "ALCOHOL-ABUSE                                                not met\n",
       "ASP-FOR-MI                                                       met\n",
       "CREATININE                                                   not met\n",
       "DIETSUPP-2MOS                                                    met\n",
       "DRUG-ABUSE                                                   not met\n",
       "ENGLISH                                                      not met\n",
       "HBA1C                                                        not met\n",
       "KETO-1YR                                                     not met\n",
       "MAJOR-DIABETES                                               not met\n",
       "MAKES-DECISIONS                                              not met\n",
       "MI-6MOS                                                      not met\n",
       "Name: 63, dtype: object"
      ]
     },
     "execution_count": 338,
     "metadata": {},
     "output_type": "execute_result"
    }
   ],
   "source": [
    "train_df.iloc[63]"
   ]
  },
  {
   "cell_type": "code",
   "execution_count": 15,
   "metadata": {},
   "outputs": [
    {
     "data": {
      "text/plain": [
       "'291.xml'"
      ]
     },
     "execution_count": 15,
     "metadata": {},
     "output_type": "execute_result"
    }
   ],
   "source": [
    "train_df.loc[141,'record_file']"
   ]
  },
  {
   "cell_type": "code",
   "execution_count": 90,
   "metadata": {},
   "outputs": [
    {
     "data": {
      "text/plain": [
       "Unnamed: 0                                                        49\n",
       "record_file                                                  288.xml\n",
       "record_text        Record date: 2065-10-20\\n\\n                   ...\n",
       "ABDOMINAL                                                        met\n",
       "ADVANCED-CAD                                                 not met\n",
       "ALCOHOL-ABUSE                                                not met\n",
       "ASP-FOR-MI                                                   not met\n",
       "CREATININE                                                   not met\n",
       "DIETSUPP-2MOS                                                not met\n",
       "DRUG-ABUSE                                                   not met\n",
       "ENGLISH                                                          met\n",
       "HBA1C                                                        not met\n",
       "KETO-1YR                                                     not met\n",
       "MAJOR-DIABETES                                               not met\n",
       "MAKES-DECISIONS                                                  met\n",
       "MI-6MOS                                                      not met\n",
       "Name: 49, dtype: object"
      ]
     },
     "execution_count": 90,
     "metadata": {},
     "output_type": "execute_result"
    }
   ],
   "source": [
    "train_df.iloc[49]"
   ]
  },
  {
   "cell_type": "code",
   "execution_count": 368,
   "metadata": {
    "collapsed": true
   },
   "outputs": [],
   "source": [
    "result_file = open(\"result.txt\", 'w+')   \n",
    "i = 1\n",
    "u = 2\n",
    "print(\"第年,本金息总计\", file=result_file)  "
   ]
  },
  {
   "cell_type": "code",
   "execution_count": 370,
   "metadata": {},
   "outputs": [
    {
     "data": {
      "text/plain": [
       "202"
      ]
     },
     "execution_count": 370,
     "metadata": {},
     "output_type": "execute_result"
    }
   ],
   "source": [
    "len(train_df)"
   ]
  },
  {
   "cell_type": "code",
   "execution_count": 372,
   "metadata": {},
   "outputs": [
    {
     "data": {
      "text/html": [
       "<div>\n",
       "<style>\n",
       "    .dataframe thead tr:only-child th {\n",
       "        text-align: right;\n",
       "    }\n",
       "\n",
       "    .dataframe thead th {\n",
       "        text-align: left;\n",
       "    }\n",
       "\n",
       "    .dataframe tbody tr th {\n",
       "        vertical-align: top;\n",
       "    }\n",
       "</style>\n",
       "<table border=\"1\" class=\"dataframe\">\n",
       "  <thead>\n",
       "    <tr style=\"text-align: right;\">\n",
       "      <th></th>\n",
       "      <th>Unnamed: 0</th>\n",
       "      <th>record_file</th>\n",
       "      <th>record_text</th>\n",
       "      <th>ABDOMINAL</th>\n",
       "      <th>ADVANCED-CAD</th>\n",
       "      <th>ALCOHOL-ABUSE</th>\n",
       "      <th>ASP-FOR-MI</th>\n",
       "      <th>CREATININE</th>\n",
       "      <th>DIETSUPP-2MOS</th>\n",
       "      <th>DRUG-ABUSE</th>\n",
       "      <th>ENGLISH</th>\n",
       "      <th>HBA1C</th>\n",
       "      <th>KETO-1YR</th>\n",
       "      <th>MAJOR-DIABETES</th>\n",
       "      <th>MAKES-DECISIONS</th>\n",
       "      <th>MI-6MOS</th>\n",
       "    </tr>\n",
       "  </thead>\n",
       "  <tbody>\n",
       "    <tr>\n",
       "      <th>197</th>\n",
       "      <td>197</td>\n",
       "      <td>219.xml</td>\n",
       "      <td>Record date: 2070-01-05\\n\\n \\n \\n \\n \\n \\nJanu...</td>\n",
       "      <td>not met</td>\n",
       "      <td>met</td>\n",
       "      <td>not met</td>\n",
       "      <td>met</td>\n",
       "      <td>met</td>\n",
       "      <td>met</td>\n",
       "      <td>not met</td>\n",
       "      <td>met</td>\n",
       "      <td>met</td>\n",
       "      <td>not met</td>\n",
       "      <td>met</td>\n",
       "      <td>met</td>\n",
       "      <td>not met</td>\n",
       "    </tr>\n",
       "    <tr>\n",
       "      <th>198</th>\n",
       "      <td>198</td>\n",
       "      <td>392.xml</td>\n",
       "      <td>Record date: 2111-09-26\\n\\nCC:  Ear pain, coug...</td>\n",
       "      <td>met</td>\n",
       "      <td>met</td>\n",
       "      <td>not met</td>\n",
       "      <td>not met</td>\n",
       "      <td>met</td>\n",
       "      <td>met</td>\n",
       "      <td>not met</td>\n",
       "      <td>met</td>\n",
       "      <td>met</td>\n",
       "      <td>not met</td>\n",
       "      <td>met</td>\n",
       "      <td>met</td>\n",
       "      <td>not met</td>\n",
       "    </tr>\n",
       "    <tr>\n",
       "      <th>199</th>\n",
       "      <td>199</td>\n",
       "      <td>345.xml</td>\n",
       "      <td>Record date: 2072-11-25\\n\\n                   ...</td>\n",
       "      <td>not met</td>\n",
       "      <td>not met</td>\n",
       "      <td>not met</td>\n",
       "      <td>met</td>\n",
       "      <td>met</td>\n",
       "      <td>not met</td>\n",
       "      <td>not met</td>\n",
       "      <td>met</td>\n",
       "      <td>not met</td>\n",
       "      <td>not met</td>\n",
       "      <td>met</td>\n",
       "      <td>met</td>\n",
       "      <td>not met</td>\n",
       "    </tr>\n",
       "    <tr>\n",
       "      <th>200</th>\n",
       "      <td>200</td>\n",
       "      <td>184.xml</td>\n",
       "      <td>Record date: 2062-01-29\\n\\nTRIBAL INTERNAL MED...</td>\n",
       "      <td>not met</td>\n",
       "      <td>met</td>\n",
       "      <td>not met</td>\n",
       "      <td>met</td>\n",
       "      <td>met</td>\n",
       "      <td>met</td>\n",
       "      <td>met</td>\n",
       "      <td>met</td>\n",
       "      <td>met</td>\n",
       "      <td>not met</td>\n",
       "      <td>met</td>\n",
       "      <td>met</td>\n",
       "      <td>not met</td>\n",
       "    </tr>\n",
       "    <tr>\n",
       "      <th>201</th>\n",
       "      <td>201</td>\n",
       "      <td>147.xml</td>\n",
       "      <td>Record date: 2091-08-09\\n\\n\\n\\nAugust 9, 2091\\...</td>\n",
       "      <td>not met</td>\n",
       "      <td>not met</td>\n",
       "      <td>not met</td>\n",
       "      <td>met</td>\n",
       "      <td>not met</td>\n",
       "      <td>met</td>\n",
       "      <td>not met</td>\n",
       "      <td>met</td>\n",
       "      <td>met</td>\n",
       "      <td>not met</td>\n",
       "      <td>not met</td>\n",
       "      <td>met</td>\n",
       "      <td>not met</td>\n",
       "    </tr>\n",
       "  </tbody>\n",
       "</table>\n",
       "</div>"
      ],
      "text/plain": [
       "     Unnamed: 0 record_file  \\\n",
       "197         197     219.xml   \n",
       "198         198     392.xml   \n",
       "199         199     345.xml   \n",
       "200         200     184.xml   \n",
       "201         201     147.xml   \n",
       "\n",
       "                                           record_text ABDOMINAL ADVANCED-CAD  \\\n",
       "197  Record date: 2070-01-05\\n\\n \\n \\n \\n \\n \\nJanu...   not met          met   \n",
       "198  Record date: 2111-09-26\\n\\nCC:  Ear pain, coug...       met          met   \n",
       "199  Record date: 2072-11-25\\n\\n                   ...   not met      not met   \n",
       "200  Record date: 2062-01-29\\n\\nTRIBAL INTERNAL MED...   not met          met   \n",
       "201  Record date: 2091-08-09\\n\\n\\n\\nAugust 9, 2091\\...   not met      not met   \n",
       "\n",
       "    ALCOHOL-ABUSE ASP-FOR-MI CREATININE DIETSUPP-2MOS DRUG-ABUSE ENGLISH  \\\n",
       "197       not met        met        met           met    not met     met   \n",
       "198       not met    not met        met           met    not met     met   \n",
       "199       not met        met        met       not met    not met     met   \n",
       "200       not met        met        met           met        met     met   \n",
       "201       not met        met    not met           met    not met     met   \n",
       "\n",
       "       HBA1C KETO-1YR MAJOR-DIABETES MAKES-DECISIONS  MI-6MOS  \n",
       "197      met  not met            met             met  not met  \n",
       "198      met  not met            met             met  not met  \n",
       "199  not met  not met            met             met  not met  \n",
       "200      met  not met            met             met  not met  \n",
       "201      met  not met        not met             met  not met  "
      ]
     },
     "execution_count": 372,
     "metadata": {},
     "output_type": "execute_result"
    }
   ],
   "source": [
    "train_df.tail()"
   ]
  },
  {
   "cell_type": "code",
   "execution_count": 373,
   "metadata": {
    "scrolled": true
   },
   "outputs": [
    {
     "data": {
      "text/html": [
       "<div>\n",
       "<style>\n",
       "    .dataframe thead tr:only-child th {\n",
       "        text-align: right;\n",
       "    }\n",
       "\n",
       "    .dataframe thead th {\n",
       "        text-align: left;\n",
       "    }\n",
       "\n",
       "    .dataframe tbody tr th {\n",
       "        vertical-align: top;\n",
       "    }\n",
       "</style>\n",
       "<table border=\"1\" class=\"dataframe\">\n",
       "  <thead>\n",
       "    <tr style=\"text-align: right;\">\n",
       "      <th></th>\n",
       "      <th>Unnamed: 0</th>\n",
       "      <th>record_file</th>\n",
       "      <th>record_text</th>\n",
       "      <th>ABDOMINAL</th>\n",
       "      <th>ADVANCED-CAD</th>\n",
       "      <th>ALCOHOL-ABUSE</th>\n",
       "      <th>ASP-FOR-MI</th>\n",
       "      <th>CREATININE</th>\n",
       "      <th>DIETSUPP-2MOS</th>\n",
       "      <th>DRUG-ABUSE</th>\n",
       "      <th>ENGLISH</th>\n",
       "      <th>HBA1C</th>\n",
       "      <th>KETO-1YR</th>\n",
       "      <th>MAJOR-DIABETES</th>\n",
       "      <th>MAKES-DECISIONS</th>\n",
       "      <th>MI-6MOS</th>\n",
       "    </tr>\n",
       "  </thead>\n",
       "  <tbody>\n",
       "    <tr>\n",
       "      <th>0</th>\n",
       "      <td>0</td>\n",
       "      <td>162.xml</td>\n",
       "      <td>Record date: 2068-02-04\\n\\nASSOCIATED ARTHRITI...</td>\n",
       "      <td>met</td>\n",
       "      <td>met</td>\n",
       "      <td>not met</td>\n",
       "      <td>met</td>\n",
       "      <td>not met</td>\n",
       "      <td>not met</td>\n",
       "      <td>not met</td>\n",
       "      <td>met</td>\n",
       "      <td>not met</td>\n",
       "      <td>not met</td>\n",
       "      <td>not met</td>\n",
       "      <td>met</td>\n",
       "      <td>not met</td>\n",
       "    </tr>\n",
       "    <tr>\n",
       "      <th>1</th>\n",
       "      <td>1</td>\n",
       "      <td>176.xml</td>\n",
       "      <td>Record date: 2085-04-22\\n\\n \\nThis patient wan...</td>\n",
       "      <td>met</td>\n",
       "      <td>not met</td>\n",
       "      <td>met</td>\n",
       "      <td>not met</td>\n",
       "      <td>not met</td>\n",
       "      <td>met</td>\n",
       "      <td>not met</td>\n",
       "      <td>met</td>\n",
       "      <td>not met</td>\n",
       "      <td>not met</td>\n",
       "      <td>not met</td>\n",
       "      <td>met</td>\n",
       "      <td>not met</td>\n",
       "    </tr>\n",
       "    <tr>\n",
       "      <th>2</th>\n",
       "      <td>2</td>\n",
       "      <td>189.xml</td>\n",
       "      <td>Record date: 2090-07-07\\n\\nWillow Gardens Care...</td>\n",
       "      <td>not met</td>\n",
       "      <td>met</td>\n",
       "      <td>not met</td>\n",
       "      <td>met</td>\n",
       "      <td>met</td>\n",
       "      <td>met</td>\n",
       "      <td>not met</td>\n",
       "      <td>met</td>\n",
       "      <td>met</td>\n",
       "      <td>not met</td>\n",
       "      <td>met</td>\n",
       "      <td>met</td>\n",
       "      <td>not met</td>\n",
       "    </tr>\n",
       "    <tr>\n",
       "      <th>3</th>\n",
       "      <td>3</td>\n",
       "      <td>214.xml</td>\n",
       "      <td>Record date: 2096-07-15\\n\\n\\n\\nResults01/31/20...</td>\n",
       "      <td>not met</td>\n",
       "      <td>met</td>\n",
       "      <td>not met</td>\n",
       "      <td>met</td>\n",
       "      <td>not met</td>\n",
       "      <td>met</td>\n",
       "      <td>not met</td>\n",
       "      <td>not met</td>\n",
       "      <td>met</td>\n",
       "      <td>not met</td>\n",
       "      <td>not met</td>\n",
       "      <td>met</td>\n",
       "      <td>met</td>\n",
       "    </tr>\n",
       "    <tr>\n",
       "      <th>4</th>\n",
       "      <td>4</td>\n",
       "      <td>200.xml</td>\n",
       "      <td>Record date: 2170-02-17\\n\\n \\n\\nReason for Vis...</td>\n",
       "      <td>met</td>\n",
       "      <td>not met</td>\n",
       "      <td>not met</td>\n",
       "      <td>met</td>\n",
       "      <td>not met</td>\n",
       "      <td>met</td>\n",
       "      <td>not met</td>\n",
       "      <td>met</td>\n",
       "      <td>not met</td>\n",
       "      <td>not met</td>\n",
       "      <td>met</td>\n",
       "      <td>met</td>\n",
       "      <td>not met</td>\n",
       "    </tr>\n",
       "  </tbody>\n",
       "</table>\n",
       "</div>"
      ],
      "text/plain": [
       "   Unnamed: 0 record_file                                        record_text  \\\n",
       "0           0     162.xml  Record date: 2068-02-04\\n\\nASSOCIATED ARTHRITI...   \n",
       "1           1     176.xml  Record date: 2085-04-22\\n\\n \\nThis patient wan...   \n",
       "2           2     189.xml  Record date: 2090-07-07\\n\\nWillow Gardens Care...   \n",
       "3           3     214.xml  Record date: 2096-07-15\\n\\n\\n\\nResults01/31/20...   \n",
       "4           4     200.xml  Record date: 2170-02-17\\n\\n \\n\\nReason for Vis...   \n",
       "\n",
       "  ABDOMINAL ADVANCED-CAD ALCOHOL-ABUSE ASP-FOR-MI CREATININE DIETSUPP-2MOS  \\\n",
       "0       met          met       not met        met    not met       not met   \n",
       "1       met      not met           met    not met    not met           met   \n",
       "2   not met          met       not met        met        met           met   \n",
       "3   not met          met       not met        met    not met           met   \n",
       "4       met      not met       not met        met    not met           met   \n",
       "\n",
       "  DRUG-ABUSE  ENGLISH    HBA1C KETO-1YR MAJOR-DIABETES MAKES-DECISIONS  \\\n",
       "0    not met      met  not met  not met        not met             met   \n",
       "1    not met      met  not met  not met        not met             met   \n",
       "2    not met      met      met  not met            met             met   \n",
       "3    not met  not met      met  not met        not met             met   \n",
       "4    not met      met  not met  not met            met             met   \n",
       "\n",
       "   MI-6MOS  \n",
       "0  not met  \n",
       "1  not met  \n",
       "2  not met  \n",
       "3      met  \n",
       "4  not met  "
      ]
     },
     "execution_count": 373,
     "metadata": {},
     "output_type": "execute_result"
    }
   ],
   "source": [
    "train_df.head()"
   ]
  },
  {
   "cell_type": "code",
   "execution_count": null,
   "metadata": {
    "collapsed": true
   },
   "outputs": [],
   "source": []
  }
 ],
 "metadata": {
  "kernelspec": {
   "display_name": "Python 3",
   "language": "python",
   "name": "python3"
  },
  "language_info": {
   "codemirror_mode": {
    "name": "ipython",
    "version": 3
   },
   "file_extension": ".py",
   "mimetype": "text/x-python",
   "name": "python",
   "nbconvert_exporter": "python",
   "pygments_lexer": "ipython3",
   "version": "3.6.3"
  }
 },
 "nbformat": 4,
 "nbformat_minor": 2
}
